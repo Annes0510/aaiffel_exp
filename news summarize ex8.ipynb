{
 "cells": [
  {
   "cell_type": "code",
   "execution_count": 1,
   "id": "562585ba",
   "metadata": {},
   "outputs": [
    {
     "name": "stderr",
     "output_type": "stream",
     "text": [
      "[nltk_data] Downloading package stopwords to /aiffel/nltk_data...\n",
      "[nltk_data]   Package stopwords is already up-to-date!\n"
     ]
    }
   ],
   "source": [
    "import nltk\n",
    "nltk.download('stopwords')\n",
    "\n",
    "import numpy as np\n",
    "import pandas as pd\n",
    "import os\n",
    "import re\n",
    "import matplotlib.pyplot as plt\n",
    "from nltk.corpus import stopwords\n",
    "from bs4 import BeautifulSoup \n",
    "from tensorflow.keras.preprocessing.text import Tokenizer \n",
    "from tensorflow.keras.preprocessing.sequence import pad_sequences\n",
    "import urllib.request"
   ]
  },
  {
   "cell_type": "markdown",
   "id": "06b97239",
   "metadata": {},
   "source": [
    "1.데이터 수집하기"
   ]
  },
  {
   "cell_type": "code",
   "execution_count": 4,
   "id": "7af74424",
   "metadata": {},
   "outputs": [],
   "source": [
    "import urllib.request\n",
    "urllib.request.urlretrieve(\"https://raw.githubusercontent.com/sunnysai12345/News_Summary/master/news_summary_more.csv\", filename=\"news_summary_more.csv\")\n",
    "data = pd.read_csv('news_summary_more.csv', encoding='iso-8859-1')"
   ]
  },
  {
   "cell_type": "code",
   "execution_count": 10,
   "id": "a1907f7f",
   "metadata": {},
   "outputs": [
    {
     "data": {
      "text/plain": [
       "(98401, 2)"
      ]
     },
     "execution_count": 10,
     "metadata": {},
     "output_type": "execute_result"
    }
   ],
   "source": [
    "data.shape"
   ]
  },
  {
   "cell_type": "code",
   "execution_count": 11,
   "id": "78c5d257",
   "metadata": {},
   "outputs": [
    {
     "data": {
      "text/html": [
       "<div>\n",
       "<style scoped>\n",
       "    .dataframe tbody tr th:only-of-type {\n",
       "        vertical-align: middle;\n",
       "    }\n",
       "\n",
       "    .dataframe tbody tr th {\n",
       "        vertical-align: top;\n",
       "    }\n",
       "\n",
       "    .dataframe thead th {\n",
       "        text-align: right;\n",
       "    }\n",
       "</style>\n",
       "<table border=\"1\" class=\"dataframe\">\n",
       "  <thead>\n",
       "    <tr style=\"text-align: right;\">\n",
       "      <th></th>\n",
       "      <th>headlines</th>\n",
       "      <th>text</th>\n",
       "    </tr>\n",
       "  </thead>\n",
       "  <tbody>\n",
       "    <tr>\n",
       "      <th>63512</th>\n",
       "      <td>Rare yellow-gold lobster found in France</td>\n",
       "      <td>A French fisherman has caught a rare yellow-go...</td>\n",
       "    </tr>\n",
       "    <tr>\n",
       "      <th>83951</th>\n",
       "      <td>SaudiÃ¢ÂÂArabia sends 12,000 camels, sheep b...</td>\n",
       "      <td>Amid the ongoing Gulf diplomatic crisis, Saudi...</td>\n",
       "    </tr>\n",
       "    <tr>\n",
       "      <th>64431</th>\n",
       "      <td>InMobi names Flipkart's Ravi Krishnaswamy as i...</td>\n",
       "      <td>Mobile advertising startup InMobi has appointe...</td>\n",
       "    </tr>\n",
       "    <tr>\n",
       "      <th>30167</th>\n",
       "      <td>Promoted Harbhajan, Chahar vs KXIP to create c...</td>\n",
       "      <td>CSK captain MS Dhoni has revealed that he prom...</td>\n",
       "    </tr>\n",
       "    <tr>\n",
       "      <th>1318</th>\n",
       "      <td>Navy abandons efforts to pull out decomposed b...</td>\n",
       "      <td>The Indian Navy has abandoned all efforts to p...</td>\n",
       "    </tr>\n",
       "    <tr>\n",
       "      <th>49962</th>\n",
       "      <td>India, Pakistan extend rail link for three years</td>\n",
       "      <td>India and Pakistan have extended an agreement ...</td>\n",
       "    </tr>\n",
       "    <tr>\n",
       "      <th>60778</th>\n",
       "      <td>Can transform into robot, fight aliens: Musk o...</td>\n",
       "      <td>Tesla CEO Elon Musk has tweeted that the compa...</td>\n",
       "    </tr>\n",
       "    <tr>\n",
       "      <th>94300</th>\n",
       "      <td>By-polls for Jaya's seat cancelled over money ...</td>\n",
       "      <td>The Election Commission on Sunday cancelled by...</td>\n",
       "    </tr>\n",
       "    <tr>\n",
       "      <th>25965</th>\n",
       "      <td>Sangakkara congratulates 'phenomenal' Dhoni on...</td>\n",
       "      <td>After India's MS Dhoni became only the second ...</td>\n",
       "    </tr>\n",
       "    <tr>\n",
       "      <th>40804</th>\n",
       "      <td>Art gallery opens in former nuclear bunker in UK</td>\n",
       "      <td>An art gallery has been opened at a former nuc...</td>\n",
       "    </tr>\n",
       "  </tbody>\n",
       "</table>\n",
       "</div>"
      ],
      "text/plain": [
       "                                               headlines  \\\n",
       "63512           Rare yellow-gold lobster found in France   \n",
       "83951  SaudiÃ¢ÂÂArabia sends 12,000 camels, sheep b...   \n",
       "64431  InMobi names Flipkart's Ravi Krishnaswamy as i...   \n",
       "30167  Promoted Harbhajan, Chahar vs KXIP to create c...   \n",
       "1318   Navy abandons efforts to pull out decomposed b...   \n",
       "49962   India, Pakistan extend rail link for three years   \n",
       "60778  Can transform into robot, fight aliens: Musk o...   \n",
       "94300  By-polls for Jaya's seat cancelled over money ...   \n",
       "25965  Sangakkara congratulates 'phenomenal' Dhoni on...   \n",
       "40804   Art gallery opens in former nuclear bunker in UK   \n",
       "\n",
       "                                                    text  \n",
       "63512  A French fisherman has caught a rare yellow-go...  \n",
       "83951  Amid the ongoing Gulf diplomatic crisis, Saudi...  \n",
       "64431  Mobile advertising startup InMobi has appointe...  \n",
       "30167  CSK captain MS Dhoni has revealed that he prom...  \n",
       "1318   The Indian Navy has abandoned all efforts to p...  \n",
       "49962  India and Pakistan have extended an agreement ...  \n",
       "60778  Tesla CEO Elon Musk has tweeted that the compa...  \n",
       "94300  The Election Commission on Sunday cancelled by...  \n",
       "25965  After India's MS Dhoni became only the second ...  \n",
       "40804  An art gallery has been opened at a former nuc...  "
      ]
     },
     "execution_count": 11,
     "metadata": {},
     "output_type": "execute_result"
    }
   ],
   "source": [
    "data.sample(10)"
   ]
  },
  {
   "cell_type": "markdown",
   "id": "fec49c1a",
   "metadata": {},
   "source": [
    "Step 2. 데이터 전처리하기 (추상적 요약)"
   ]
  },
  {
   "cell_type": "markdown",
   "id": "b18973e3",
   "metadata": {},
   "source": [
    "결측치 제거 "
   ]
  },
  {
   "cell_type": "code",
   "execution_count": 13,
   "id": "2062c145",
   "metadata": {},
   "outputs": [
    {
     "name": "stdout",
     "output_type": "stream",
     "text": [
      "headlines 열에서 중복을 배제한 유일한 샘플의 수 : 98280\n",
      "Text 열에서 중복을 배제한 유일한 샘플의 수 : 98360\n"
     ]
    }
   ],
   "source": [
    "print('headlines 열에서 중복을 배제한 유일한 샘플의 수 :', data['headlines'].nunique())\n",
    "print('Text 열에서 중복을 배제한 유일한 샘플의 수 :', data['text'].nunique())"
   ]
  },
  {
   "cell_type": "code",
   "execution_count": 14,
   "id": "419ea1a1",
   "metadata": {},
   "outputs": [
    {
     "name": "stdout",
     "output_type": "stream",
     "text": [
      "전체 샘플수 : 98360\n"
     ]
    }
   ],
   "source": [
    "data.drop_duplicates(subset = ['text'], inplace = True)\n",
    "print('전체 샘플수 :',(len(data)))"
   ]
  },
  {
   "cell_type": "code",
   "execution_count": 15,
   "id": "ad9cb443",
   "metadata": {},
   "outputs": [
    {
     "name": "stdout",
     "output_type": "stream",
     "text": [
      "headlines    0\n",
      "text         0\n",
      "dtype: int64\n"
     ]
    }
   ],
   "source": [
    "print(data.isnull().sum())"
   ]
  },
  {
   "cell_type": "markdown",
   "id": "883bfbb6",
   "metadata": {},
   "source": [
    "정규화"
   ]
  },
  {
   "cell_type": "code",
   "execution_count": 16,
   "id": "73f361da",
   "metadata": {},
   "outputs": [
    {
     "name": "stdout",
     "output_type": "stream",
     "text": [
      "정규화 사전의 수:  120\n"
     ]
    }
   ],
   "source": [
    "contractions = {\"ain't\": \"is not\", \"aren't\": \"are not\",\"can't\": \"cannot\", \"'cause\": \"because\", \"could've\": \"could have\", \"couldn't\": \"could not\",\n",
    "                           \"didn't\": \"did not\",  \"doesn't\": \"does not\", \"don't\": \"do not\", \"hadn't\": \"had not\", \"hasn't\": \"has not\", \"haven't\": \"have not\",\n",
    "                           \"he'd\": \"he would\",\"he'll\": \"he will\", \"he's\": \"he is\", \"how'd\": \"how did\", \"how'd'y\": \"how do you\", \"how'll\": \"how will\", \"how's\": \"how is\",\n",
    "                           \"I'd\": \"I would\", \"I'd've\": \"I would have\", \"I'll\": \"I will\", \"I'll've\": \"I will have\",\"I'm\": \"I am\", \"I've\": \"I have\", \"i'd\": \"i would\",\n",
    "                           \"i'd've\": \"i would have\", \"i'll\": \"i will\",  \"i'll've\": \"i will have\",\"i'm\": \"i am\", \"i've\": \"i have\", \"isn't\": \"is not\", \"it'd\": \"it would\",\n",
    "                           \"it'd've\": \"it would have\", \"it'll\": \"it will\", \"it'll've\": \"it will have\",\"it's\": \"it is\", \"let's\": \"let us\", \"ma'am\": \"madam\",\n",
    "                           \"mayn't\": \"may not\", \"might've\": \"might have\",\"mightn't\": \"might not\",\"mightn't've\": \"might not have\", \"must've\": \"must have\",\n",
    "                           \"mustn't\": \"must not\", \"mustn't've\": \"must not have\", \"needn't\": \"need not\", \"needn't've\": \"need not have\",\"o'clock\": \"of the clock\",\n",
    "                           \"oughtn't\": \"ought not\", \"oughtn't've\": \"ought not have\", \"shan't\": \"shall not\", \"sha'n't\": \"shall not\", \"shan't've\": \"shall not have\",\n",
    "                           \"she'd\": \"she would\", \"she'd've\": \"she would have\", \"she'll\": \"she will\", \"she'll've\": \"she will have\", \"she's\": \"she is\",\n",
    "                           \"should've\": \"should have\", \"shouldn't\": \"should not\", \"shouldn't've\": \"should not have\", \"so've\": \"so have\",\"so's\": \"so as\",\n",
    "                           \"this's\": \"this is\",\"that'd\": \"that would\", \"that'd've\": \"that would have\", \"that's\": \"that is\", \"there'd\": \"there would\",\n",
    "                           \"there'd've\": \"there would have\", \"there's\": \"there is\", \"here's\": \"here is\",\"they'd\": \"they would\", \"they'd've\": \"they would have\",\n",
    "                           \"they'll\": \"they will\", \"they'll've\": \"they will have\", \"they're\": \"they are\", \"they've\": \"they have\", \"to've\": \"to have\",\n",
    "                           \"wasn't\": \"was not\", \"we'd\": \"we would\", \"we'd've\": \"we would have\", \"we'll\": \"we will\", \"we'll've\": \"we will have\", \"we're\": \"we are\",\n",
    "                           \"we've\": \"we have\", \"weren't\": \"were not\", \"what'll\": \"what will\", \"what'll've\": \"what will have\", \"what're\": \"what are\",\n",
    "                           \"what's\": \"what is\", \"what've\": \"what have\", \"when's\": \"when is\", \"when've\": \"when have\", \"where'd\": \"where did\", \"where's\": \"where is\",\n",
    "                           \"where've\": \"where have\", \"who'll\": \"who will\", \"who'll've\": \"who will have\", \"who's\": \"who is\", \"who've\": \"who have\",\n",
    "                           \"why's\": \"why is\", \"why've\": \"why have\", \"will've\": \"will have\", \"won't\": \"will not\", \"won't've\": \"will not have\",\n",
    "                           \"would've\": \"would have\", \"wouldn't\": \"would not\", \"wouldn't've\": \"would not have\", \"y'all\": \"you all\",\n",
    "                           \"y'all'd\": \"you all would\",\"y'all'd've\": \"you all would have\",\"y'all're\": \"you all are\",\"y'all've\": \"you all have\",\n",
    "                           \"you'd\": \"you would\", \"you'd've\": \"you would have\", \"you'll\": \"you will\", \"you'll've\": \"you will have\",\n",
    "                           \"you're\": \"you are\", \"you've\": \"you have\"}\n",
    "\n",
    "print(\"정규화 사전의 수: \",len(contractions))"
   ]
  },
  {
   "cell_type": "markdown",
   "id": "1c8fc638",
   "metadata": {},
   "source": [
    "불용화"
   ]
  },
  {
   "cell_type": "code",
   "execution_count": 17,
   "id": "9e578251",
   "metadata": {},
   "outputs": [
    {
     "name": "stdout",
     "output_type": "stream",
     "text": [
      "불용어 개수 : 179\n",
      "['i', 'me', 'my', 'myself', 'we', 'our', 'ours', 'ourselves', 'you', \"you're\", \"you've\", \"you'll\", \"you'd\", 'your', 'yours', 'yourself', 'yourselves', 'he', 'him', 'his', 'himself', 'she', \"she's\", 'her', 'hers', 'herself', 'it', \"it's\", 'its', 'itself', 'they', 'them', 'their', 'theirs', 'themselves', 'what', 'which', 'who', 'whom', 'this', 'that', \"that'll\", 'these', 'those', 'am', 'is', 'are', 'was', 'were', 'be', 'been', 'being', 'have', 'has', 'had', 'having', 'do', 'does', 'did', 'doing', 'a', 'an', 'the', 'and', 'but', 'if', 'or', 'because', 'as', 'until', 'while', 'of', 'at', 'by', 'for', 'with', 'about', 'against', 'between', 'into', 'through', 'during', 'before', 'after', 'above', 'below', 'to', 'from', 'up', 'down', 'in', 'out', 'on', 'off', 'over', 'under', 'again', 'further', 'then', 'once', 'here', 'there', 'when', 'where', 'why', 'how', 'all', 'any', 'both', 'each', 'few', 'more', 'most', 'other', 'some', 'such', 'no', 'nor', 'not', 'only', 'own', 'same', 'so', 'than', 'too', 'very', 's', 't', 'can', 'will', 'just', 'don', \"don't\", 'should', \"should've\", 'now', 'd', 'll', 'm', 'o', 're', 've', 'y', 'ain', 'aren', \"aren't\", 'couldn', \"couldn't\", 'didn', \"didn't\", 'doesn', \"doesn't\", 'hadn', \"hadn't\", 'hasn', \"hasn't\", 'haven', \"haven't\", 'isn', \"isn't\", 'ma', 'mightn', \"mightn't\", 'mustn', \"mustn't\", 'needn', \"needn't\", 'shan', \"shan't\", 'shouldn', \"shouldn't\", 'wasn', \"wasn't\", 'weren', \"weren't\", 'won', \"won't\", 'wouldn', \"wouldn't\"]\n"
     ]
    }
   ],
   "source": [
    "print('불용어 개수 :', len(stopwords.words('english') ))\n",
    "print(stopwords.words('english'))"
   ]
  },
  {
   "cell_type": "code",
   "execution_count": 18,
   "id": "84be54ad",
   "metadata": {},
   "outputs": [],
   "source": [
    "def preprocess_sentence(sentence, remove_stopwords=True):\n",
    "    sentence = sentence.lower() # 텍스트 소문자화\n",
    "    sentence = BeautifulSoup(sentence, \"lxml\").text # <br />, <a href = ...> 등의 html 태그 제거\n",
    "    sentence = re.sub(r'\\([^)]*\\)', '', sentence) # 괄호로 닫힌 문자열 (...) 제거 Ex) my husband (and myself!) for => my husband for\n",
    "    sentence = re.sub('\"','', sentence) # 쌍따옴표 \" 제거\n",
    "    sentence = ' '.join([contractions[t] if t in contractions else t for t in sentence.split(\" \")]) # 약어 정규화\n",
    "    sentence = re.sub(r\"'s\\b\",\"\", sentence) # 소유격 제거. Ex) roland's -> roland\n",
    "    sentence = re.sub(\"[^a-zA-Z]\", \" \", sentence) # 영어 외 문자(숫자, 특수문자 등) 공백으로 변환\n",
    "    sentence = re.sub('[m]{2,}', 'mm', sentence) # m이 3개 이상이면 2개로 변경. Ex) ummmmmmm yeah -> umm yeah\n",
    "    \n",
    "    # 불용어 제거 (Text)\n",
    "    if remove_stopwords:\n",
    "        tokens = ' '.join(word for word in sentence.split() if not word in stopwords.words('english') if len(word) > 1)\n",
    "    # 불용어 미제거 (Summary)\n",
    "    else:\n",
    "        tokens = ' '.join(word for word in sentence.split() if len(word) > 1)\n",
    "    return tokens"
   ]
  },
  {
   "cell_type": "code",
   "execution_count": 19,
   "id": "70524430",
   "metadata": {},
   "outputs": [
    {
     "name": "stdout",
     "output_type": "stream",
     "text": [
      "text:  everything bought great infact ordered twice third ordered wasfor mother father\n",
      "summary: great way to start the day\n"
     ]
    }
   ],
   "source": [
    "temp_text = 'Everything I bought was great, infact I ordered twice and the third ordered was<br />for my mother and father.'\n",
    "temp_summary = 'Great way to start (or finish) the day!!!'\n",
    "\n",
    "print(\"text: \", preprocess_sentence(temp_text))\n",
    "print(\"summary:\", preprocess_sentence(temp_summary, False))  # 불용어를 제거하지 않습니다."
   ]
  },
  {
   "cell_type": "code",
   "execution_count": 21,
   "id": "d312b118",
   "metadata": {},
   "outputs": [
    {
     "data": {
      "text/plain": [
       "['saurav kant alumnus upgrad iiit pg program machine learning artificial intelligence sr systems engineer infosys almost years work experience program upgrad degree career support helped transition data scientist tech mahindra salary hike upgrad online power learning powered lakh careers',\n",
       " 'kunal shah credit card bill payment platform cred gave users chance win free food swiggy one year pranav kaushik delhi techie bagged reward spending cred coins users get one cred coin per rupee bill paid used avail rewards brands like ixigo bookmyshow ubereats cult fit',\n",
       " 'new zealand defeated india wickets fourth odi hamilton thursday win first match five match odi series india lost international match rohit sharma captaincy consecutive victories dating back march match witnessed india getting seventh lowest total odi cricket history',\n",
       " 'aegon life iterm insurance plan customers enjoy tax benefits premiums paid save taxes plan provides life cover age years also customers options insure critical illnesses disability accidental death benefit rider life cover age years',\n",
       " 'speaking sexual harassment allegations rajkumar hirani sonam kapoor said known hirani many years true metoo movement get derailed metoo movement always believe woman case need reserve judgment added hirani accused assistant worked sanju']"
      ]
     },
     "execution_count": 21,
     "metadata": {},
     "output_type": "execute_result"
    }
   ],
   "source": [
    "clean_text = []\n",
    "\n",
    "for s in data['text']:\n",
    "    clean_text.append(preprocess_sentence(s))\n",
    "\n",
    "clean_text[:5]"
   ]
  },
  {
   "cell_type": "code",
   "execution_count": 22,
   "id": "20950dca",
   "metadata": {},
   "outputs": [
    {
     "data": {
      "text/plain": [
       "['upgrad learner switches to career in ml al with salary hike',\n",
       " 'delhi techie wins free food from swiggy for one year on cred',\n",
       " 'new zealand end rohit sharma led india match winning streak',\n",
       " 'aegon life iterm insurance plan helps customers save tax',\n",
       " 'have known hirani for yrs what if metoo claims are not true sonam']"
      ]
     },
     "execution_count": 22,
     "metadata": {},
     "output_type": "execute_result"
    }
   ],
   "source": [
    "clean_headlines = []\n",
    "\n",
    "for s in data['headlines']:\n",
    "    clean_headlines.append(preprocess_sentence(s, False))\n",
    "\n",
    "clean_headlines[:5]"
   ]
  },
  {
   "cell_type": "code",
   "execution_count": 23,
   "id": "ae7aaf36",
   "metadata": {},
   "outputs": [],
   "source": [
    "data['text'] = clean_text\n",
    "data['headlines'] = clean_headlines\n",
    "\n",
    "data.replace('', np.nan, inplace=True)"
   ]
  },
  {
   "cell_type": "code",
   "execution_count": 24,
   "id": "f8d5af1c",
   "metadata": {},
   "outputs": [
    {
     "data": {
      "text/plain": [
       "headlines    0\n",
       "text         0\n",
       "dtype: int64"
      ]
     },
     "execution_count": 24,
     "metadata": {},
     "output_type": "execute_result"
    }
   ],
   "source": [
    "data.isnull().sum()"
   ]
  },
  {
   "cell_type": "code",
   "execution_count": 25,
   "id": "19bb2ebd",
   "metadata": {},
   "outputs": [
    {
     "name": "stdout",
     "output_type": "stream",
     "text": [
      "전체 샘플수 : 98360\n"
     ]
    }
   ],
   "source": [
    "data.dropna(axis=0, inplace=True)\n",
    "print('전체 샘플수 :',(len(data)))#데이터 전처리 함수"
   ]
  },
  {
   "cell_type": "markdown",
   "id": "4996a661",
   "metadata": {},
   "source": [
    "길이 분포 출력"
   ]
  },
  {
   "cell_type": "code",
   "execution_count": 28,
   "id": "acddd2f0",
   "metadata": {},
   "outputs": [
    {
     "name": "stdout",
     "output_type": "stream",
     "text": [
      "텍스트의 최소 길이 : 1\n",
      "텍스트의 최대 길이 : 60\n",
      "텍스트의 평균 길이 : 35.09968483123221\n",
      "요약의 최소 길이 : 1\n",
      "요약의 최대 길이 : 16\n",
      "요약의 평균 길이 : 9.299532330215534\n"
     ]
    },
    {
     "data": {
      "image/png": "[encoded data removed]",
      "text/plain": [
       "<Figure size 432x288 with 2 Axes>"
      ]
     },
     "metadata": {
      "needs_background": "light"
     },
     "output_type": "display_data"
    },
    {
     "data": {
      "image/png": "[encoded data removed]",
      "text/plain": [
       "<Figure size 432x288 with 1 Axes>"
      ]
     },
     "metadata": {
      "needs_background": "light"
     },
     "output_type": "display_data"
    },
    {
     "data": {
      "image/png": "[encoded data removed]",
      "text/plain": [
       "<Figure size 432x288 with 1 Axes>"
      ]
     },
     "metadata": {
      "needs_background": "light"
     },
     "output_type": "display_data"
    }
   ],
   "source": [
    "import matplotlib.pyplot as plt\n",
    "\n",
    "text_len = [len(s.split()) for s in data['text']]\n",
    "headlines_len = [len(s.split()) for s in data['headlines']]\n",
    "\n",
    "print('텍스트의 최소 길이 : {}'.format(np.min(text_len)))\n",
    "print('텍스트의 최대 길이 : {}'.format(np.max(text_len)))\n",
    "print('텍스트의 평균 길이 : {}'.format(np.mean(text_len)))\n",
    "print('요약의 최소 길이 : {}'.format(np.min(headlines_len)))\n",
    "print('요약의 최대 길이 : {}'.format(np.max(headlines_len)))\n",
    "print('요약의 평균 길이 : {}'.format(np.mean(headlines_len)))\n",
    "\n",
    "plt.subplot(1,2,1)\n",
    "plt.boxplot(headlines_len)\n",
    "plt.title('headlines')\n",
    "plt.subplot(1,2,2)\n",
    "plt.boxplot(text_len)\n",
    "plt.title('text')\n",
    "plt.tight_layout()\n",
    "plt.show()\n",
    "\n",
    "plt.title('headlines')\n",
    "plt.hist(headlines_len, bins = 40)\n",
    "plt.xlabel('length of samples')\n",
    "plt.ylabel('number of samples')\n",
    "plt.show()\n",
    "\n",
    "plt.title('text')\n",
    "plt.hist(text_len, bins = 40)\n",
    "plt.xlabel('length of samples')\n",
    "plt.ylabel('number of samples')\n",
    "plt.show()"
   ]
  },
  {
   "cell_type": "code",
   "execution_count": 34,
   "id": "e12f6440",
   "metadata": {},
   "outputs": [],
   "source": [
    "text_max_len = 40\n",
    "headlines_max_len = 10"
   ]
  },
  {
   "cell_type": "code",
   "execution_count": 35,
   "id": "7dd3c64f",
   "metadata": {},
   "outputs": [],
   "source": [
    "def below_threshold_len(max_len, nested_list):\n",
    "  cnt = 0\n",
    "  for s in nested_list:\n",
    "    if(len(s.split()) <= max_len):\n",
    "        cnt = cnt + 1\n",
    "  print('전체 샘플 중 길이가 %s 이하인 샘플의 비율: %s'%(max_len, (cnt / len(nested_list))))"
   ]
  },
  {
   "cell_type": "code",
   "execution_count": 36,
   "id": "eaa63e1e",
   "metadata": {},
   "outputs": [
    {
     "name": "stdout",
     "output_type": "stream",
     "text": [
      "전체 샘플 중 길이가 40 이하인 샘플의 비율: 0.9238714924766165\n",
      "전체 샘플 중 길이가 10 이하인 샘플의 비율: 0.8162972753151687\n"
     ]
    }
   ],
   "source": [
    "below_threshold_len(text_max_len, data['text'])\n",
    "below_threshold_len(headlines_max_len,  data['headlines'])"
   ]
  },
  {
   "cell_type": "code",
   "execution_count": 37,
   "id": "5b793d89",
   "metadata": {},
   "outputs": [
    {
     "data": {
      "text/html": [
       "<div>\n",
       "<style scoped>\n",
       "    .dataframe tbody tr th:only-of-type {\n",
       "        vertical-align: middle;\n",
       "    }\n",
       "\n",
       "    .dataframe tbody tr th {\n",
       "        vertical-align: top;\n",
       "    }\n",
       "\n",
       "    .dataframe thead th {\n",
       "        text-align: right;\n",
       "    }\n",
       "</style>\n",
       "<table border=\"1\" class=\"dataframe\">\n",
       "  <thead>\n",
       "    <tr style=\"text-align: right;\">\n",
       "      <th></th>\n",
       "      <th>headlines</th>\n",
       "      <th>text</th>\n",
       "      <th>decoder_input</th>\n",
       "      <th>decoder_target</th>\n",
       "    </tr>\n",
       "  </thead>\n",
       "  <tbody>\n",
       "    <tr>\n",
       "      <th>0</th>\n",
       "      <td>upgrad learner switches to career in ml al wit...</td>\n",
       "      <td>saurav kant alumnus upgrad iiit pg program mac...</td>\n",
       "      <td>sostoken upgrad learner switches to career in ...</td>\n",
       "      <td>upgrad learner switches to career in ml al wit...</td>\n",
       "    </tr>\n",
       "    <tr>\n",
       "      <th>1</th>\n",
       "      <td>delhi techie wins free food from swiggy for on...</td>\n",
       "      <td>kunal shah credit card bill payment platform c...</td>\n",
       "      <td>sostoken delhi techie wins free food from swig...</td>\n",
       "      <td>delhi techie wins free food from swiggy for on...</td>\n",
       "    </tr>\n",
       "    <tr>\n",
       "      <th>2</th>\n",
       "      <td>new zealand end rohit sharma led india match w...</td>\n",
       "      <td>new zealand defeated india wickets fourth odi ...</td>\n",
       "      <td>sostoken new zealand end rohit sharma led indi...</td>\n",
       "      <td>new zealand end rohit sharma led india match w...</td>\n",
       "    </tr>\n",
       "    <tr>\n",
       "      <th>3</th>\n",
       "      <td>aegon life iterm insurance plan helps customer...</td>\n",
       "      <td>aegon life iterm insurance plan customers enjo...</td>\n",
       "      <td>sostoken aegon life iterm insurance plan helps...</td>\n",
       "      <td>aegon life iterm insurance plan helps customer...</td>\n",
       "    </tr>\n",
       "    <tr>\n",
       "      <th>4</th>\n",
       "      <td>have known hirani for yrs what if metoo claims...</td>\n",
       "      <td>speaking sexual harassment allegations rajkuma...</td>\n",
       "      <td>sostoken have known hirani for yrs what if met...</td>\n",
       "      <td>have known hirani for yrs what if metoo claims...</td>\n",
       "    </tr>\n",
       "  </tbody>\n",
       "</table>\n",
       "</div>"
      ],
      "text/plain": [
       "                                           headlines  \\\n",
       "0  upgrad learner switches to career in ml al wit...   \n",
       "1  delhi techie wins free food from swiggy for on...   \n",
       "2  new zealand end rohit sharma led india match w...   \n",
       "3  aegon life iterm insurance plan helps customer...   \n",
       "4  have known hirani for yrs what if metoo claims...   \n",
       "\n",
       "                                                text  \\\n",
       "0  saurav kant alumnus upgrad iiit pg program mac...   \n",
       "1  kunal shah credit card bill payment platform c...   \n",
       "2  new zealand defeated india wickets fourth odi ...   \n",
       "3  aegon life iterm insurance plan customers enjo...   \n",
       "4  speaking sexual harassment allegations rajkuma...   \n",
       "\n",
       "                                       decoder_input  \\\n",
       "0  sostoken upgrad learner switches to career in ...   \n",
       "1  sostoken delhi techie wins free food from swig...   \n",
       "2  sostoken new zealand end rohit sharma led indi...   \n",
       "3  sostoken aegon life iterm insurance plan helps...   \n",
       "4  sostoken have known hirani for yrs what if met...   \n",
       "\n",
       "                                      decoder_target  \n",
       "0  upgrad learner switches to career in ml al wit...  \n",
       "1  delhi techie wins free food from swiggy for on...  \n",
       "2  new zealand end rohit sharma led india match w...  \n",
       "3  aegon life iterm insurance plan helps customer...  \n",
       "4  have known hirani for yrs what if metoo claims...  "
      ]
     },
     "execution_count": 37,
     "metadata": {},
     "output_type": "execute_result"
    }
   ],
   "source": [
    "# 요약 데이터에는 시작 토큰과 종료 토큰을 추가한다.\n",
    "\n",
    "data['decoder_input'] = data['headlines'].apply(lambda x : 'sostoken '+ x)\n",
    "data['decoder_target'] = data['headlines'].apply(lambda x : x + ' eostoken')\n",
    "data.head()"
   ]
  },
  {
   "cell_type": "code",
   "execution_count": 40,
   "id": "d860d438",
   "metadata": {},
   "outputs": [],
   "source": [
    "encoder_input = np.array(data['text']) # 인코더의 입력\n",
    "decoder_input = np.array(data['decoder_input']) # 디코더의 입력\n",
    "decoder_target = np.array(data['decoder_target']) # 디코더의 레이블\n"
   ]
  },
  {
   "cell_type": "code",
   "execution_count": 41,
   "id": "00332ecc",
   "metadata": {},
   "outputs": [
    {
     "name": "stdout",
     "output_type": "stream",
     "text": [
      "[27460 79503 66440 ...  4136 77472 53719]\n"
     ]
    }
   ],
   "source": [
    "indices = np.arange(encoder_input.shape[0])\n",
    "np.random.shuffle(indices)\n",
    "print(indices)"
   ]
  },
  {
   "cell_type": "code",
   "execution_count": 42,
   "id": "6afe6544",
   "metadata": {},
   "outputs": [],
   "source": [
    "encoder_input = encoder_input[indices]\n",
    "decoder_input = decoder_input[indices]\n",
    "decoder_target = decoder_target[indices]"
   ]
  },
  {
   "cell_type": "code",
   "execution_count": 43,
   "id": "08365749",
   "metadata": {},
   "outputs": [
    {
     "name": "stdout",
     "output_type": "stream",
     "text": [
      "테스트 데이터의 수 : 19672\n"
     ]
    }
   ],
   "source": [
    "n_of_val = int(len(encoder_input)*0.2)\n",
    "print('테스트 데이터의 수 :', n_of_val)"
   ]
  },
  {
   "cell_type": "code",
   "execution_count": 44,
   "id": "23c54cf5",
   "metadata": {},
   "outputs": [
    {
     "name": "stdout",
     "output_type": "stream",
     "text": [
      "훈련 데이터의 개수 : 78688\n",
      "훈련 레이블의 개수 : 78688\n",
      "테스트 데이터의 개수 : 19672\n",
      "테스트 레이블의 개수 : 19672\n"
     ]
    }
   ],
   "source": [
    "encoder_input_train = encoder_input[:-n_of_val]\n",
    "decoder_input_train = decoder_input[:-n_of_val]\n",
    "decoder_target_train = decoder_target[:-n_of_val]\n",
    "\n",
    "encoder_input_test = encoder_input[-n_of_val:]\n",
    "decoder_input_test = decoder_input[-n_of_val:]\n",
    "decoder_target_test = decoder_target[-n_of_val:]\n",
    "\n",
    "print('훈련 데이터의 개수 :', len(encoder_input_train))\n",
    "print('훈련 레이블의 개수 :', len(decoder_input_train))\n",
    "print('테스트 데이터의 개수 :', len(encoder_input_test))\n",
    "print('테스트 레이블의 개수 :', len(decoder_input_test))"
   ]
  },
  {
   "cell_type": "markdown",
   "id": "6745ff26",
   "metadata": {},
   "source": [
    "단어 집합(vocabulary)"
   ]
  },
  {
   "cell_type": "code",
   "execution_count": 45,
   "id": "eff9a1ca",
   "metadata": {},
   "outputs": [],
   "source": [
    "src_tokenizer = Tokenizer() # 토크나이저 정의\n",
    "src_tokenizer.fit_on_texts(encoder_input_train) # 입력된 데이터로부터 단어 집합 생성"
   ]
  },
  {
   "cell_type": "code",
   "execution_count": 46,
   "id": "9068754b",
   "metadata": {},
   "outputs": [
    {
     "name": "stdout",
     "output_type": "stream",
     "text": [
      "단어 집합(vocabulary)의 크기 : 69619\n",
      "등장 빈도가 6번 이하인 희귀 단어의 수: 47472\n",
      "단어 집합에서 희귀 단어를 제외시킬 경우의 단어 집합의 크기 22147\n",
      "단어 집합에서 희귀 단어의 비율: 68.18828193452937\n",
      "전체 등장 빈도에서 희귀 단어 등장 빈도 비율: 3.495885213197731\n"
     ]
    }
   ],
   "source": [
    "threshold = 7\n",
    "total_cnt = len(src_tokenizer.word_index) # 단어의 수\n",
    "rare_cnt = 0 # 등장 빈도수가 threshold보다 작은 단어의 개수를 카운트\n",
    "total_freq = 0 # 훈련 데이터의 전체 단어 빈도수 총 합\n",
    "rare_freq = 0 # 등장 빈도수가 threshold보다 작은 단어의 등장 빈도수의 총 합\n",
    "\n",
    "# 단어와 빈도수의 쌍(pair)을 key와 value로 받는다.\n",
    "for key, value in src_tokenizer.word_counts.items():\n",
    "    total_freq = total_freq + value\n",
    "\n",
    "    # 단어의 등장 빈도수가 threshold보다 작으면\n",
    "    if(value < threshold):\n",
    "        rare_cnt = rare_cnt + 1\n",
    "        rare_freq = rare_freq + value\n",
    "\n",
    "print('단어 집합(vocabulary)의 크기 :', total_cnt)\n",
    "print('등장 빈도가 %s번 이하인 희귀 단어의 수: %s'%(threshold - 1, rare_cnt))\n",
    "print('단어 집합에서 희귀 단어를 제외시킬 경우의 단어 집합의 크기 %s'%(total_cnt - rare_cnt))\n",
    "print(\"단어 집합에서 희귀 단어의 비율:\", (rare_cnt / total_cnt)*100)\n",
    "print(\"전체 등장 빈도에서 희귀 단어 등장 빈도 비율:\", (rare_freq / total_freq)*100)"
   ]
  },
  {
   "cell_type": "code",
   "execution_count": 47,
   "id": "eaeb8a94",
   "metadata": {},
   "outputs": [],
   "source": [
    "src_vocab = 8000\n",
    "src_tokenizer = Tokenizer(num_words=src_vocab) # 단어 집합의 크기를 8,000으로 제한\n",
    "src_tokenizer.fit_on_texts(encoder_input_train) # 단어 집합 재생성"
   ]
  },
  {
   "cell_type": "code",
   "execution_count": 48,
   "id": "3acab591",
   "metadata": {},
   "outputs": [
    {
     "name": "stdout",
     "output_type": "stream",
     "text": [
      "[[1854, 514, 7802, 200, 67, 240, 112, 40, 2580, 39, 927, 18, 187, 361, 6925, 828, 6926, 58, 458, 3400, 93, 13, 3954, 774, 288, 7, 2, 1319, 2812, 1010, 137, 1328, 240, 18, 187], [444, 206, 254, 9, 2237, 3519, 1, 21, 9, 682, 1650, 156, 109, 3600, 2385, 1415, 219, 9, 125, 132, 156, 109, 1485, 531, 1665, 353, 337, 469, 3534, 2488, 21, 4], [2657, 2946, 406, 1332, 3873, 546, 545, 318, 163, 3248, 1612, 4871, 621, 2699, 565, 29, 3028, 299, 546, 2657, 396, 1, 3520, 3805, 167, 482, 3903, 483, 797, 1862]]\n"
     ]
    }
   ],
   "source": [
    "# 텍스트 시퀀스를 정수 시퀀스로 변환\n",
    "encoder_input_train = src_tokenizer.texts_to_sequences(encoder_input_train) \n",
    "encoder_input_test = src_tokenizer.texts_to_sequences(encoder_input_test)\n",
    "\n",
    "# 잘 진행되었는지 샘플 출력\n",
    "print(encoder_input_train[:3])"
   ]
  },
  {
   "cell_type": "code",
   "execution_count": 49,
   "id": "f4f0bc55",
   "metadata": {},
   "outputs": [],
   "source": [
    "tar_tokenizer = Tokenizer()\n",
    "tar_tokenizer.fit_on_texts(decoder_input_train)"
   ]
  },
  {
   "cell_type": "code",
   "execution_count": 50,
   "id": "aee561f7",
   "metadata": {},
   "outputs": [
    {
     "name": "stdout",
     "output_type": "stream",
     "text": [
      "단어 집합(vocabulary)의 크기 : 30075\n",
      "등장 빈도가 5번 이하인 희귀 단어의 수: 19662\n",
      "단어 집합에서 희귀 단어를 제외시킬 경우의 단어 집합의 크기 10413\n",
      "단어 집합에서 희귀 단어의 비율: 65.37655860349128\n",
      "전체 등장 빈도에서 희귀 단어 등장 빈도 비율: 4.6497139036179655\n"
     ]
    }
   ],
   "source": [
    "threshold = 6\n",
    "total_cnt = len(tar_tokenizer.word_index) # 단어의 수\n",
    "rare_cnt = 0 # 등장 빈도수가 threshold보다 작은 단어의 개수를 카운트\n",
    "total_freq = 0 # 훈련 데이터의 전체 단어 빈도수 총 합\n",
    "rare_freq = 0 # 등장 빈도수가 threshold보다 작은 단어의 등장 빈도수의 총 합\n",
    "\n",
    "# 단어와 빈도수의 쌍(pair)을 key와 value로 받는다.\n",
    "for key, value in tar_tokenizer.word_counts.items():\n",
    "    total_freq = total_freq + value\n",
    "\n",
    "    # 단어의 등장 빈도수가 threshold보다 작으면\n",
    "    if(value < threshold):\n",
    "        rare_cnt = rare_cnt + 1\n",
    "        rare_freq = rare_freq + value\n",
    "\n",
    "print('단어 집합(vocabulary)의 크기 :',total_cnt)\n",
    "print('등장 빈도가 %s번 이하인 희귀 단어의 수: %s'%(threshold - 1, rare_cnt))\n",
    "print('단어 집합에서 희귀 단어를 제외시킬 경우의 단어 집합의 크기 %s'%(total_cnt - rare_cnt))\n",
    "print(\"단어 집합에서 희귀 단어의 비율:\", (rare_cnt / total_cnt)*100)\n",
    "print(\"전체 등장 빈도에서 희귀 단어 등장 빈도 비율:\", (rare_freq / total_freq)*100)"
   ]
  },
  {
   "cell_type": "code",
   "execution_count": 51,
   "id": "105bed85",
   "metadata": {},
   "outputs": [
    {
     "name": "stdout",
     "output_type": "stream",
     "text": [
      "input\n",
      "input  [[1, 623, 454, 1853, 1638, 1023, 298, 92], [1, 383, 63, 3, 7, 688, 294], [1, 1602, 1581, 9, 12, 200], [1, 140, 18, 3, 213, 264], [1, 246, 1525, 350, 145, 6, 1819]]\n",
      "target\n",
      "decoder  [[623, 454, 1853, 1638, 1023, 298, 92, 2], [383, 63, 3, 7, 688, 294, 2], [1602, 1581, 9, 12, 200, 2], [140, 18, 3, 213, 264, 2], [246, 1525, 350, 145, 6, 1819, 2]]\n"
     ]
    }
   ],
   "source": [
    "tar_vocab = 2000\n",
    "tar_tokenizer = Tokenizer(num_words=tar_vocab) \n",
    "tar_tokenizer.fit_on_texts(decoder_input_train)\n",
    "tar_tokenizer.fit_on_texts(decoder_target_train)\n",
    "\n",
    "# 텍스트 시퀀스를 정수 시퀀스로 변환\n",
    "decoder_input_train = tar_tokenizer.texts_to_sequences(decoder_input_train) \n",
    "decoder_target_train = tar_tokenizer.texts_to_sequences(decoder_target_train)\n",
    "decoder_input_test = tar_tokenizer.texts_to_sequences(decoder_input_test)\n",
    "decoder_target_test = tar_tokenizer.texts_to_sequences(decoder_target_test)\n",
    "\n",
    "# 잘 변환되었는지 확인\n",
    "print('input')\n",
    "print('input ',decoder_input_train[:5])\n",
    "print('target')\n",
    "print('decoder ',decoder_target_train[:5])"
   ]
  },
  {
   "cell_type": "code",
   "execution_count": 54,
   "id": "f2dcce21",
   "metadata": {},
   "outputs": [
    {
     "name": "stdout",
     "output_type": "stream",
     "text": [
      "삭제할 훈련 데이터의 개수 : 0\n",
      "삭제할 테스트 데이터의 개수 : 0\n",
      "훈련 데이터의 개수 : 78678\n",
      "훈련 레이블의 개수 : 78678\n",
      "테스트 데이터의 개수 : 19668\n",
      "테스트 레이블의 개수 : 19668\n"
     ]
    }
   ],
   "source": [
    "drop_train = [index for index, sentence in enumerate(decoder_input_train) if len(sentence) == 1]\n",
    "drop_test = [index for index, sentence in enumerate(decoder_input_test) if len(sentence) == 1]\n",
    "\n",
    "print('삭제할 훈련 데이터의 개수 :',len(drop_train))\n",
    "print('삭제할 테스트 데이터의 개수 :',len(drop_test))\n",
    "\n",
    "encoder_input_train = np.delete(encoder_input_train, drop_train, axis=0)\n",
    "decoder_input_train = np.delete(decoder_input_train, drop_train, axis=0)\n",
    "decoder_target_train = np.delete(decoder_target_train, drop_train, axis=0)\n",
    "\n",
    "encoder_input_test = np.delete(encoder_input_test, drop_test, axis=0)\n",
    "decoder_input_test = np.delete(decoder_input_test, drop_test, axis=0)\n",
    "decoder_target_test = np.delete(decoder_target_test, drop_test, axis=0)\n",
    "\n",
    "print('훈련 데이터의 개수 :', len(encoder_input_train))\n",
    "print('훈련 레이블의 개수 :',len(decoder_input_train))\n",
    "print('테스트 데이터의 개수 :',len(encoder_input_test))\n",
    "print('테스트 레이블의 개수 :',len(decoder_input_test))"
   ]
  },
  {
   "cell_type": "code",
   "execution_count": 55,
   "id": "7afd6216",
   "metadata": {},
   "outputs": [],
   "source": [
    "encoder_input_train = pad_sequences(encoder_input_train, maxlen = text_max_len, padding='post')\n",
    "encoder_input_test = pad_sequences(encoder_input_test, maxlen = text_max_len, padding='post')\n",
    "decoder_input_train = pad_sequences(decoder_input_train, maxlen = headlines_max_len, padding='post')\n",
    "decoder_target_train = pad_sequences(decoder_target_train, maxlen = headlines_max_len, padding='post')\n",
    "decoder_input_test = pad_sequences(decoder_input_test, maxlen = headlines_max_len, padding='post')\n",
    "decoder_target_test = pad_sequences(decoder_target_test, maxlen = headlines_max_len, padding='post')"
   ]
  },
  {
   "cell_type": "markdown",
   "id": "0239a7ac",
   "metadata": {},
   "source": [
    "모델 쌓기"
   ]
  },
  {
   "cell_type": "code",
   "execution_count": 56,
   "id": "7ef87251",
   "metadata": {},
   "outputs": [
    {
     "name": "stdout",
     "output_type": "stream",
     "text": [
      "WARNING:tensorflow:Layer lstm will not use cuDNN kernels since it doesn't meet the criteria. It will use a generic GPU kernel as fallback when running on GPU.\n",
      "WARNING:tensorflow:Layer lstm_1 will not use cuDNN kernels since it doesn't meet the criteria. It will use a generic GPU kernel as fallback when running on GPU.\n",
      "WARNING:tensorflow:Layer lstm_2 will not use cuDNN kernels since it doesn't meet the criteria. It will use a generic GPU kernel as fallback when running on GPU.\n"
     ]
    }
   ],
   "source": [
    "from tensorflow.keras.layers import Input, LSTM, Embedding, Dense, Concatenate, TimeDistributed\n",
    "from tensorflow.keras.models import Model\n",
    "from tensorflow.keras.callbacks import EarlyStopping, ModelCheckpoint\n",
    "\n",
    "\n",
    "# 인코더 설계 시작\n",
    "embedding_dim = 128\n",
    "hidden_size = 256\n",
    "\n",
    "# 인코더\n",
    "encoder_inputs = Input(shape=(text_max_len,))\n",
    "\n",
    "# 인코더의 임베딩 층\n",
    "enc_emb = Embedding(src_vocab, embedding_dim)(encoder_inputs)\n",
    "\n",
    "# 인코더의 LSTM 1\n",
    "encoder_lstm1 = LSTM(hidden_size, return_sequences=True, return_state=True ,dropout = 0.4, recurrent_dropout = 0.4)\n",
    "encoder_output1, state_h1, state_c1 = encoder_lstm1(enc_emb)\n",
    "\n",
    "# 인코더의 LSTM 2\n",
    "encoder_lstm2 = LSTM(hidden_size, return_sequences=True, return_state=True, dropout=0.4, recurrent_dropout=0.4)\n",
    "encoder_output2, state_h2, state_c2 = encoder_lstm2(encoder_output1)\n",
    "\n",
    "# 인코더의 LSTM 3\n",
    "encoder_lstm3 = LSTM(hidden_size, return_state=True, return_sequences=True, dropout=0.4, recurrent_dropout=0.4)\n",
    "encoder_outputs, state_h, state_c= encoder_lstm3(encoder_output2)"
   ]
  },
  {
   "cell_type": "code",
   "execution_count": 57,
   "id": "39fea7d5",
   "metadata": {},
   "outputs": [
    {
     "name": "stdout",
     "output_type": "stream",
     "text": [
      "WARNING:tensorflow:Layer lstm_3 will not use cuDNN kernels since it doesn't meet the criteria. It will use a generic GPU kernel as fallback when running on GPU.\n"
     ]
    }
   ],
   "source": [
    "# 디코더 설계\n",
    "decoder_inputs = Input(shape=(None,))\n",
    "\n",
    "# 디코더의 임베딩 층\n",
    "dec_emb_layer = Embedding(tar_vocab, embedding_dim)\n",
    "dec_emb = dec_emb_layer(decoder_inputs)\n",
    "\n",
    "# 디코더의 LSTM\n",
    "decoder_lstm = LSTM(hidden_size, return_sequences=True, return_state=True, dropout=0.4, recurrent_dropout=0.2)\n",
    "decoder_outputs, _, _ = decoder_lstm(dec_emb, initial_state=[state_h, state_c])"
   ]
  },
  {
   "cell_type": "code",
   "execution_count": 58,
   "id": "55387eeb",
   "metadata": {},
   "outputs": [
    {
     "name": "stdout",
     "output_type": "stream",
     "text": [
      "Model: \"model\"\n",
      "__________________________________________________________________________________________________\n",
      "Layer (type)                    Output Shape         Param #     Connected to                     \n",
      "==================================================================================================\n",
      "input_1 (InputLayer)            [(None, 40)]         0                                            \n",
      "__________________________________________________________________________________________________\n",
      "embedding (Embedding)           (None, 40, 128)      1024000     input_1[0][0]                    \n",
      "__________________________________________________________________________________________________\n",
      "lstm (LSTM)                     [(None, 40, 256), (N 394240      embedding[0][0]                  \n",
      "__________________________________________________________________________________________________\n",
      "input_2 (InputLayer)            [(None, None)]       0                                            \n",
      "__________________________________________________________________________________________________\n",
      "lstm_1 (LSTM)                   [(None, 40, 256), (N 525312      lstm[0][0]                       \n",
      "__________________________________________________________________________________________________\n",
      "embedding_1 (Embedding)         (None, None, 128)    256000      input_2[0][0]                    \n",
      "__________________________________________________________________________________________________\n",
      "lstm_2 (LSTM)                   [(None, 40, 256), (N 525312      lstm_1[0][0]                     \n",
      "__________________________________________________________________________________________________\n",
      "lstm_3 (LSTM)                   [(None, None, 256),  394240      embedding_1[0][0]                \n",
      "                                                                 lstm_2[0][1]                     \n",
      "                                                                 lstm_2[0][2]                     \n",
      "__________________________________________________________________________________________________\n",
      "dense (Dense)                   (None, None, 2000)   514000      lstm_3[0][0]                     \n",
      "==================================================================================================\n",
      "Total params: 3,633,104\n",
      "Trainable params: 3,633,104\n",
      "Non-trainable params: 0\n",
      "__________________________________________________________________________________________________\n"
     ]
    }
   ],
   "source": [
    "# 디코더의 출력층\n",
    "decoder_softmax_layer = Dense(tar_vocab, activation='softmax')\n",
    "decoder_softmax_outputs = decoder_softmax_layer(decoder_outputs) \n",
    "\n",
    "# 모델 정의\n",
    "model = Model([encoder_inputs, decoder_inputs], decoder_softmax_outputs)\n",
    "model.summary()"
   ]
  },
  {
   "cell_type": "markdown",
   "id": "57489f44",
   "metadata": {},
   "source": [
    "Step 3. 어텐션 메커니즘 사용하기 (추상적 요약)"
   ]
  },
  {
   "cell_type": "code",
   "execution_count": 59,
   "id": "ca0ec605",
   "metadata": {},
   "outputs": [
    {
     "name": "stdout",
     "output_type": "stream",
     "text": [
      "Model: \"model_1\"\n",
      "__________________________________________________________________________________________________\n",
      "Layer (type)                    Output Shape         Param #     Connected to                     \n",
      "==================================================================================================\n",
      "input_1 (InputLayer)            [(None, 40)]         0                                            \n",
      "__________________________________________________________________________________________________\n",
      "embedding (Embedding)           (None, 40, 128)      1024000     input_1[0][0]                    \n",
      "__________________________________________________________________________________________________\n",
      "lstm (LSTM)                     [(None, 40, 256), (N 394240      embedding[0][0]                  \n",
      "__________________________________________________________________________________________________\n",
      "input_2 (InputLayer)            [(None, None)]       0                                            \n",
      "__________________________________________________________________________________________________\n",
      "lstm_1 (LSTM)                   [(None, 40, 256), (N 525312      lstm[0][0]                       \n",
      "__________________________________________________________________________________________________\n",
      "embedding_1 (Embedding)         (None, None, 128)    256000      input_2[0][0]                    \n",
      "__________________________________________________________________________________________________\n",
      "lstm_2 (LSTM)                   [(None, 40, 256), (N 525312      lstm_1[0][0]                     \n",
      "__________________________________________________________________________________________________\n",
      "lstm_3 (LSTM)                   [(None, None, 256),  394240      embedding_1[0][0]                \n",
      "                                                                 lstm_2[0][1]                     \n",
      "                                                                 lstm_2[0][2]                     \n",
      "__________________________________________________________________________________________________\n",
      "attention_layer (AdditiveAttent (None, None, 256)    256         lstm_3[0][0]                     \n",
      "                                                                 lstm_2[0][0]                     \n",
      "__________________________________________________________________________________________________\n",
      "concat_layer (Concatenate)      (None, None, 512)    0           lstm_3[0][0]                     \n",
      "                                                                 attention_layer[0][0]            \n",
      "__________________________________________________________________________________________________\n",
      "dense_1 (Dense)                 (None, None, 2000)   1026000     concat_layer[0][0]               \n",
      "==================================================================================================\n",
      "Total params: 4,145,360\n",
      "Trainable params: 4,145,360\n",
      "Non-trainable params: 0\n",
      "__________________________________________________________________________________________________\n"
     ]
    }
   ],
   "source": [
    "from tensorflow.keras.layers import AdditiveAttention\n",
    "\n",
    "# 어텐션 층(어텐션 함수)\n",
    "attn_layer = AdditiveAttention(name='attention_layer')\n",
    "\n",
    "# 인코더와 디코더의 모든 time step의 hidden state를 어텐션 층에 전달하고 결과를 리턴\n",
    "attn_out = attn_layer([decoder_outputs, encoder_outputs])\n",
    "\n",
    "\n",
    "# 어텐션의 결과와 디코더의 hidden state들을 연결\n",
    "decoder_concat_input = Concatenate(axis=-1, name='concat_layer')([decoder_outputs, attn_out])\n",
    "\n",
    "# 디코더의 출력층\n",
    "decoder_softmax_layer = Dense(tar_vocab, activation='softmax')\n",
    "decoder_softmax_outputs = decoder_softmax_layer(decoder_concat_input)\n",
    "\n",
    "# 모델 정의\n",
    "model = Model([encoder_inputs, decoder_inputs], decoder_softmax_outputs)\n",
    "model.summary()"
   ]
  },
  {
   "cell_type": "code",
   "execution_count": 60,
   "id": "85d378bc",
   "metadata": {},
   "outputs": [
    {
     "name": "stdout",
     "output_type": "stream",
     "text": [
      "Epoch 1/10\n",
      "308/308 [==============================] - 176s 543ms/step - loss: 4.1756 - val_loss: 3.9274\n",
      "Epoch 2/10\n",
      "308/308 [==============================] - 173s 562ms/step - loss: 3.6941 - val_loss: 3.5674\n",
      "Epoch 3/10\n",
      "308/308 [==============================] - 171s 554ms/step - loss: 3.3886 - val_loss: 3.3093\n",
      "Epoch 4/10\n",
      "308/308 [==============================] - 176s 571ms/step - loss: 3.1933 - val_loss: 3.1509\n",
      "Epoch 5/10\n",
      "308/308 [==============================] - 180s 583ms/step - loss: 3.0435 - val_loss: 3.0480\n",
      "Epoch 6/10\n",
      "308/308 [==============================] - 164s 531ms/step - loss: 2.9200 - val_loss: 2.9534\n",
      "Epoch 7/10\n",
      "308/308 [==============================] - 161s 522ms/step - loss: 2.8165 - val_loss: 2.8844\n",
      "Epoch 8/10\n",
      "308/308 [==============================] - 161s 524ms/step - loss: 2.7286 - val_loss: 2.8173\n",
      "Epoch 9/10\n",
      "308/308 [==============================] - 161s 522ms/step - loss: 2.6505 - val_loss: 2.7721\n",
      "Epoch 10/10\n",
      "308/308 [==============================] - 160s 519ms/step - loss: 2.5825 - val_loss: 2.7298\n"
     ]
    }
   ],
   "source": [
    "model.compile(optimizer='rmsprop', loss='sparse_categorical_crossentropy')\n",
    "es = EarlyStopping(monitor='val_loss', mode='min', verbose=1, patience = 2)\n",
    "history = model.fit(x = [encoder_input_train, decoder_input_train], y = decoder_target_train, \\\n",
    "          validation_data = ([encoder_input_test, decoder_input_test], decoder_target_test),\n",
    "          batch_size = 256, callbacks=[es], epochs = 10)"
   ]
  },
  {
   "cell_type": "code",
   "execution_count": 61,
   "id": "edfa085b",
   "metadata": {},
   "outputs": [
    {
     "data": {
      "image/png": "[encoded data removed]",
      "text/plain": [
       "<Figure size 432x288 with 1 Axes>"
      ]
     },
     "metadata": {
      "needs_background": "light"
     },
     "output_type": "display_data"
    }
   ],
   "source": [
    "plt.plot(history.history['loss'], label='train')\n",
    "plt.plot(history.history['val_loss'], label='test')\n",
    "plt.legend()\n",
    "plt.show()"
   ]
  },
  {
   "cell_type": "markdown",
   "id": "7485b017",
   "metadata": {},
   "source": [
    "Step 4. 실제 결과와 요약문 비교하기 (추상적 요약)"
   ]
  },
  {
   "cell_type": "code",
   "execution_count": 62,
   "id": "de5a8731",
   "metadata": {},
   "outputs": [],
   "source": [
    "src_index_to_word = src_tokenizer.index_word # 원문 단어 집합에서 정수 -> 단어를 얻음\n",
    "tar_word_to_index = tar_tokenizer.word_index # 요약 단어 집합에서 단어 -> 정수를 얻음\n",
    "tar_index_to_word = tar_tokenizer.index_word # 요약 단어 집합에서 정수 -> 단어를 얻음"
   ]
  },
  {
   "cell_type": "code",
   "execution_count": 63,
   "id": "3bc12ebd",
   "metadata": {},
   "outputs": [],
   "source": [
    "# 인코더 설계\n",
    "encoder_model = Model(inputs=encoder_inputs, outputs=[encoder_outputs, state_h, state_c])\n",
    "\n",
    "# 이전 시점의 상태들을 저장하는 텐서\n",
    "decoder_state_input_h = Input(shape=(hidden_size,))\n",
    "decoder_state_input_c = Input(shape=(hidden_size,))\n",
    "\n",
    "dec_emb2 = dec_emb_layer(decoder_inputs)\n",
    "\n",
    "# 문장의 다음 단어를 예측하기 위해서 초기 상태(initial_state)를 이전 시점의 상태로 사용. 이는 뒤의 함수 decode_sequence()에 구현\n",
    "# 훈련 과정에서와 달리 LSTM의 리턴하는 은닉 상태와 셀 상태인 state_h와 state_c를 버리지 않음.\n",
    "decoder_outputs2, state_h2, state_c2 = decoder_lstm(dec_emb2, initial_state=[decoder_state_input_h, decoder_state_input_c])"
   ]
  },
  {
   "cell_type": "code",
   "execution_count": 64,
   "id": "a0b90648",
   "metadata": {},
   "outputs": [],
   "source": [
    "# 어텐션 함수\n",
    "decoder_hidden_state_input = Input(shape=(text_max_len, hidden_size))\n",
    "attn_out_inf = attn_layer([decoder_outputs2, decoder_hidden_state_input])\n",
    "decoder_inf_concat = Concatenate(axis=-1, name='concat')([decoder_outputs2, attn_out_inf])\n",
    "\n",
    "# 디코더의 출력층\n",
    "decoder_outputs2 = decoder_softmax_layer(decoder_inf_concat) \n",
    "\n",
    "# 최종 디코더 모델\n",
    "decoder_model = Model(\n",
    "    [decoder_inputs] + [decoder_hidden_state_input,decoder_state_input_h, decoder_state_input_c],\n",
    "    [decoder_outputs2] + [state_h2, state_c2])\n"
   ]
  },
  {
   "cell_type": "code",
   "execution_count": 65,
   "id": "b79a8171",
   "metadata": {},
   "outputs": [],
   "source": [
    "def decode_sequence(input_seq):\n",
    "    # 입력으로부터 인코더의 상태를 얻음\n",
    "    e_out, e_h, e_c = encoder_model.predict(input_seq)\n",
    "\n",
    "     # <SOS>에 해당하는 토큰 생성\n",
    "    target_seq = np.zeros((1,1))\n",
    "    target_seq[0, 0] = tar_word_to_index['sostoken']\n",
    "\n",
    "    stop_condition = False\n",
    "    decoded_sentence = ''\n",
    "    while not stop_condition: # stop_condition이 True가 될 때까지 루프 반복\n",
    "\n",
    "        output_tokens, h, c = decoder_model.predict([target_seq] + [e_out, e_h, e_c])\n",
    "        sampled_token_index = np.argmax(output_tokens[0, -1, :])\n",
    "        sampled_token = tar_index_to_word[sampled_token_index]\n",
    "\n",
    "        if(sampled_token!='eostoken'):\n",
    "            decoded_sentence += ' '+sampled_token\n",
    "\n",
    "        #  <eos>에 도달하거나 최대 길이를 넘으면 중단.\n",
    "        if (sampled_token == 'eostoken'  or len(decoded_sentence.split()) >= (headlines_max_len-1)):\n",
    "            stop_condition = True\n",
    "\n",
    "        # 길이가 1인 타겟 시퀀스를 업데이트\n",
    "        target_seq = np.zeros((1,1))\n",
    "        target_seq[0, 0] = sampled_token_index\n",
    "\n",
    "        # 상태를 업데이트 합니다.\n",
    "        e_h, e_c = h, c\n",
    "\n",
    "    return decoded_sentence"
   ]
  },
  {
   "cell_type": "code",
   "execution_count": 66,
   "id": "6d57b026",
   "metadata": {},
   "outputs": [],
   "source": [
    "# 원문의 정수 시퀀스를 텍스트 시퀀스로 변환\n",
    "def seq2text(input_seq):\n",
    "    temp=''\n",
    "    for i in input_seq:\n",
    "        if(i!=0):\n",
    "            temp = temp + src_index_to_word[i]+' '\n",
    "    return temp\n",
    "\n",
    "# 요약문의 정수 시퀀스를 텍스트 시퀀스로 변환\n",
    "def seq2headlines(input_seq):\n",
    "    temp=''\n",
    "    for i in input_seq:\n",
    "        if((i!=0 and i!=tar_word_to_index['sostoken']) and i!=tar_word_to_index['eostoken']):\n",
    "            temp = temp + tar_index_to_word[i] + ' '\n",
    "    return temp"
   ]
  },
  {
   "cell_type": "code",
   "execution_count": 67,
   "id": "e713b2cd",
   "metadata": {},
   "outputs": [
    {
     "name": "stdout",
     "output_type": "stream",
     "text": [
      "원문 : pakistan thursday released year old indian prisoner diagnosed cancer humanitarian grounds youth lodged jail since said treated pakistan jail happy back resident madhya pradesh currently receiving treatment hospital \n",
      "실제 요약 : pak releases indian with cancer and \n",
      "예측 요약 :  pak to be in\n",
      "\n",
      "\n",
      "원문 : madhya pradesh spiritual leader maharaj admitted indore hospital shooting tuesday year old awarded rank minister mp government passed away treated retired public life opposing spiritual environment reportedly rejected offer ministerial post \n",
      "실제 요약 : mp leader shoots himself dead \n",
      "예측 요약 :  mp passes away aged\n",
      "\n",
      "\n",
      "원문 : saudi king salman bin al saturday presented us president donald trump gold king medal kingdom top civilian honour king declared trump honoured enhance security stability region around world notably former us president barack obama also awarded honour \n",
      "실제 요약 : saudi king trump with top honour \n",
      "예측 요약 :  saudi prince trump award\n",
      "\n",
      "\n",
      "원문 : following yuvraj singh message celebrating diwali pollution free user posted photo crackers yuvraj wedding captioned ok burn crackers diwali ok burn wedding jumped th floor yuvraj supports diwali wedding crackers produced oxygen delhi pollution free read another tweet \n",
      "실제 요약 : from th floor tweets user for yuvraj \n",
      "예측 요약 :  priyanka statue in wedding\n",
      "\n",
      "\n",
      "원문 : brazil supreme court tuesday named sport team league title winners year long dispute club brazil league winner teams crowned league winners two separate run panel decided sport beat crowned league champions \n",
      "실제 요약 : top brazil court names football league after yrs \n",
      "예측 요약 :  sc wins for st time in\n",
      "\n",
      "\n",
      "원문 : army chief general bipin rawat said women soon inducted combat roles army process started currently women allowed medical legal educational signals engineering wings army countries allow women combat roles usa uk germany among \n",
      "실제 요약 : indian army to allow women in army chief \n",
      "예측 요약 :  army army to army\n",
      "\n",
      "\n",
      "원문 : many talented indian athletes come achieving international wants change status initiative aims known athletes sports nation support year old figure time national gold medalist represent india winter games \n",
      "실제 요약 : fan the fire to support \n",
      "예측 요약 :  india to be in india\n",
      "\n",
      "\n",
      "원문 : india suffered loss great britain settle silver medal eighth sultan cup hockey tournament saturday great britain finished runners last year secured second sultan cup title india bronze medal last edition sultan cup hockey tournament \n",
      "실제 요약 : india for silver medal in of cup \n",
      "예측 요약 :  india wins world cup\n",
      "\n",
      "\n",
      "원문 : time videos show growth chinese cities including three decades ago map population rose crore increase meanwhile lakh people rose lakh \n",
      "실제 요약 : videos show growth of chinese cities in years \n",
      "예측 요약 :  to launch in china\n",
      "\n",
      "\n",
      "원문 : hollywood actor known character harry potter film franchise said finds difficult separate individual ends character begins added relationship character kind merged person \n",
      "실제 요약 : to where end and begins \n",
      "예측 요약 :  actress actress to actress\n",
      "\n",
      "\n",
      "원문 : juventus forward cristiano ronaldo bicycle kick goal real madrid juventus uefa champions league quarter final first leg last season nominated uefa goal season award year old back facing goal score six seconds juventus goalkeeper produced flying save \n",
      "실제 요약 : ronaldo goal vs in goal of season \n",
      "예측 요약 :  ronaldo ronaldo as ronaldo\n",
      "\n",
      "\n",
      "원문 : japanese automaker subsidiary motorcycles india said technology electric two wheelers company plans bring electric vehicles india difficult meet customer expectations ceo said japan launched electric past exist anymore added \n",
      "실제 요약 : do not have tech for electric two india \n",
      "예측 요약 :  to launch electric cars in india\n",
      "\n",
      "\n",
      "원문 : upcoming deepika padukone irrfan khan starrer film directed vishal bhardwaj release october film reportedly based story part hussain novel mafia mumbai deepika reportedly play role mafia queen khan irrfan play local gangster \n",
      "실제 요약 : release date of deepika irrfan next film announced \n",
      "예측 요약 :  srk to star in film report\n",
      "\n",
      "\n",
      "원문 : reacting author chetan bhagat announcement setting electric car project user tweeted make half car another user tweeted know cannot make movie user also tweeted trying elon musk another tweet read hope twitter account \n",
      "실제 요약 : not make half car tweets user on plan \n",
      "예측 요약 :  twitter reacts to user on\n",
      "\n",
      "\n",
      "원문 : nasa building robots create rocket fuel using soil mars astronauts get home mission robots nicknamed dust would remove water soil hydrogen oxygen would hydrogen carbon mars atmosphere produce used fuel \n",
      "실제 요약 : nasa building to create rocket fuel from \n",
      "예측 요약 :  nasa mars to mars\n",
      "\n",
      "\n",
      "원문 : indo tibetan border police force started process non vehicles india china border government official said according official vehicles enhance navigation capabilities deployed currently sport vehicles foot \n",
      "실제 요약 : to get all vehicles to on china border \n",
      "예측 요약 :  army to build border along border\n",
      "\n",
      "\n",
      "원문 : tuesday country president making first new president country years comes previous president announced retirement chose successor served defence minister earlier vowed attract foreign investment \n",
      "실제 요약 : in its first new president after years \n",
      "예측 요약 :  india to be in years\n",
      "\n",
      "\n",
      "원문 : man posing engineer allegedly stole lakh indian overseas bank atm uttar pradesh pretext fixing entered bank strong room managed crack password removed lakh machine police official said police going cctv camera footage \n",
      "실제 요약 : man as engineer lakh from in up \n",
      "예측 요약 :  man held for stealing notes in notes\n",
      "\n",
      "\n",
      "원문 : occasion film ram completing years since release sunday anil kapoor madhuri dixit shared video wherein recreated name song film another post anil kapoor wrote one greatest watch continue bring smile people faces \n",
      "실제 요약 : anil ram song on film yrs \n",
      "예측 요약 :  to release in film\n",
      "\n",
      "\n",
      "원문 : filmmakers pandit ramesh paid hospital bill actress geeta kapoor amounting lakh claims abandoned son pandit seeking objection certificate geeta children shift old age home geeta revealed son would beat give food four days \n",
      "실제 요약 : pay medical bill of actress by son \n",
      "예측 요약 :  assam mla passes away aged\n",
      "\n",
      "\n",
      "원문 : television actress revealed came mumbai work sent back without numerous times due tamil added watched lot bollywood movies could get right worked shows like express among others \n",
      "실제 요약 : was sent back without due to my tamil \n",
      "예측 요약 :  actress denies reports of\n",
      "\n",
      "\n",
      "원문 : calling prime minister narendra modi congress president rahul gandhi monday slammed th tweet question day series gandhi criticised pm modi allegedly maintaining silence allegations corruption bjp president amit shah son jay gujarat state petroleum corporation among others \n",
      "실제 요약 : cong prez rahul gandhi calls pm modi \n",
      "예측 요약 :  pm modi to pm modi on\n",
      "\n",
      "\n",
      "원문 : actress known role friends said looks natural getting removed added feel better look like added made look fake grew thinking appearance important thing added nn \n",
      "실제 요약 : look after removed \n",
      "예측 요약 :  am like on\n",
      "\n",
      "\n",
      "원문 : virat kohli said estimated brand value million numbers something work towards product whatever professional career said kohli cricketer signed eight year crore deal february besides undisclosed deal \n",
      "실제 요약 : crore brand value just for me virat kohli \n",
      "예측 요약 :  kohli kohli to buy for crore\n",
      "\n",
      "\n",
      "원문 : combat cryptocurrency twitter accounts change display name tesla spacex ceo elon musk however account passing test providing phone number verify identity following name used twitter revealed similar measures employed public figures accounts \n",
      "실제 요약 : account if user changes name to elon musk \n",
      "예측 요약 :  musk ceo to musk on\n",
      "\n",
      "\n",
      "원문 : india first store hyderabad swedish furniture giant ikea open second store mumbai later year ikea invest nearly crore next three years open three mumbai bengaluru delhi ikea said may raise higher end product prices due hike customs duty \n",
      "실제 요약 : second store in india in mumbai this year \n",
      "예측 요약 :  india launches its first car\n",
      "\n",
      "\n",
      "원문 : dismissing plea demanding probe alleged case bribery senior judges supreme court said chief justice india cases bench even allegations demanded cji dipak misra stay away case involved parties past \n",
      "실제 요약 : can even if allegations are against him sc \n",
      "예측 요약 :  sc rejects plea against cbi\n",
      "\n",
      "\n",
      "원문 : tiger shroff said disha patani take good looks talent head adding even success changed said disha inspiring talking relationship disha tiger said friends also good friends \n",
      "실제 요약 : not take good and to her head tiger \n",
      "예측 요약 :  am not to be with katrina\n",
      "\n",
      "\n",
      "원문 : based continuing trend size tigers past years cows might largest left earth years american researchers warned researchers pointed average mass north american last years due human activities like hunting \n",
      "실제 요약 : be largest left on earth in yrs study \n",
      "예측 요약 :  new of the first time study\n",
      "\n",
      "\n",
      "원문 : india signed billion deal buy russia aerial defence system china announced sell high end military drones weather ally pakistan two countries also manufacture wing ii unmanned aerial vehicle future china largest supplier weapon systems pakistan army \n",
      "실제 요약 : china announces for pak after india russia deal \n",
      "예측 요약 :  india billion deal to china\n",
      "\n",
      "\n",
      "원문 : actress kareena kapoor said husband saif ali khan wanted set example mothers said think hit gym get back studio take son added kareena star veere di wedding first film gave birth taimur \n",
      "실제 요약 : saif wanted me to set an for kareena \n",
      "예측 요약 :  kareena saif kareena kareena\n",
      "\n",
      "\n",
      "원문 : year old bishop died friday falling moving train kochi thomas standing near train door suddenly slammed shut causing fall headed based syrian church returning headquarters upon hearing floods kerala \n",
      "실제 요약 : kerala falls to death from moving train \n",
      "예측 요약 :  dies after falling stuck in\n",
      "\n",
      "\n",
      "원문 : filmmaker anurag kashyap said understand signing films contract necessary misconduct protected sexual harassment accused partner vikas bahl learnt fifty creative people run companies understand papers sign added anurag \n",
      "실제 요약 : am an to not what am \n",
      "예측 요약 :  actress denies sexual harassment allegations\n",
      "\n",
      "\n",
      "원문 : delhi cm aap arvind kejriwal said sunday charges levelled kapil mishra baseless unless would jail would centre would ensured jail even truth charges levelled said \n",
      "실제 요약 : kejriwal on kapil allegations \n",
      "예측 요약 :  kejriwal to kejriwal on riots case\n",
      "\n",
      "\n",
      "원문 : ayushmann khurrana said tremendous self belief faith adding always something different cinema cross critical commercial said nobody tells believe ayushmann next seen dream girl also stars \n",
      "실제 요약 : always to do different ayushmann \n",
      "예측 요약 :  ayushmann reveals he is\n",
      "\n",
      "\n",
      "원문 : video shows puducherry lieutenant governor kiran bedi aiadmk mla arguing stage government function argument reportedly broke criticised bedi puducherry administration speech mike turned however according bedi mike turned mla refused limit speech \n",
      "실제 요약 : mla on stage at govt \n",
      "예측 요약 :  bihar mla calls for\n",
      "\n",
      "\n",
      "원문 : us based co working startup wework rival raised million led existing investor partners round saw participation existing investors including property partners organisation new investors including revolution growth series funding round reportedly valued startup million \n",
      "실제 요약 : co working startup rival raises million \n",
      "예측 요약 :  startup raises million\n",
      "\n",
      "\n",
      "원문 : baby girl born woman madhya pradesh district discovered two hours delivered toilet independence day woman reported pain using toilet taken hospital doctors found baby baby discovered toilet rushed back home \n",
      "실제 요약 : baby found alive hours after being in toilet \n",
      "예측 요약 :  woman baby in mp\n",
      "\n",
      "\n",
      "원문 : responding leak internal documents facebook deals controversial content platform facebook head global policy said get things wrong constantly working make sure happens less often added put lot detailed thought trying find right answers even \n",
      "실제 요약 : we get things wrong facebook on leak of \n",
      "예측 요약 :  facebook fb to fb\n",
      "\n",
      "\n",
      "원문 : days bjp allies sealed seat sharing bihar ahead lok sabha polls bjp mp gopal narayan singh said like india bihar also main brand narendra claiming jd bjp equal partners singh added bjp needs nitish kumar also needs bjp \n",
      "실제 요약 : is our brand in bihar says bjp mp \n",
      "예측 요약 :  bjp jd to contest bjp leader\n",
      "\n",
      "\n",
      "원문 : tribal residents mumbai hold silent protest march independence day oppose reservation land colony construction activities including metro car shed people protesting project environment residents said notably development zone \n",
      "실제 요약 : to hold protest march on day in mumbai \n",
      "예측 요약 :  mumbai to get in\n",
      "\n",
      "\n",
      "원문 : us payment processing company agreed buy uk rival billion uk largest payment processing company agreed takeover parliament members deal cheap sell british company brexit vote combined group renamed headquartered us \n",
      "실제 요약 : payments firm to buy rival for crore \n",
      "예측 요약 :  us firm to billion deal\n",
      "\n",
      "\n",
      "원문 : china remain neutral north korea missiles threaten us first us chinese state run newspaper global times said friday us carry strikes try north korean regime china prevent times added comes amid increasing tensions us north korea \n",
      "실제 요약 : if north korea fires first on us china \n",
      "예측 요약 :  china to korea on korea\n",
      "\n",
      "\n",
      "원문 : us based cab hailing startup uber mistakenly used flag congratulate puerto rico flag day advertisement facebook flag features red blue white puerto rico flag comprises blue red white uber apologised mistake said human error \n",
      "실제 요약 : uber using flag \n",
      "예측 요약 :  uber apologises for statue\n",
      "\n",
      "\n",
      "원문 : centre considering selling state owned air india parts make potential buyers several government officials said prime minister office set deadline early get sale process underway officials added notably air india debt crore surviving \n",
      "실제 요약 : break up an as pm modi for sale \n",
      "예측 요약 :  govt to air india to\n",
      "\n",
      "\n",
      "원문 : group activists planning six metre high trump baby balloon london us president visit country trump visits uk want make sure knows britain looking laughing group wrote online petition \n",
      "실제 요약 : uk plan to trump baby in london \n",
      "예측 요약 :  uk to trump\n",
      "\n",
      "\n",
      "원문 : heavy rains friday led traffic various parts national capital region took twitter ask delhi traffic police gurugram police help regarding traffic led exchange tweets two police forces wherein accused traffic \n",
      "실제 요약 : delhi gurugram police each other for traffic \n",
      "예측 요약 :  mumbai police road in\n",
      "\n",
      "\n",
      "원문 : bodies two women hands tied found wednesday district himachal pradesh police said two women whose bodies sent post mortem years age efforts made ascertain identity police added \n",
      "실제 요약 : women tied to each other found in himachal \n",
      "예측 요약 :  in mp found in\n",
      "\n",
      "\n",
      "원문 : actress haasan asked rumours getting job done said face body nobody business said get people write social media adding anyone \n",
      "실제 요약 : what do with my face body is business \n",
      "예측 요약 :  am not to be with\n",
      "\n",
      "\n",
      "원문 : parliament japan called national diet japan houses two house representatives house tours available parts japan parliament building located tokyo notably current constitution japan implemented november second world war \n",
      "실제 요약 : japan parliament is called the national of japan \n",
      "예측 요약 :  uk to uk to\n",
      "\n",
      "\n"
     ]
    }
   ],
   "source": [
    "for i in range(0, 50):\n",
    "    print(\"원문 :\", seq2text(encoder_input_test[i]))\n",
    "    print(\"실제 요약 :\", seq2headlines(decoder_input_test[i]))\n",
    "    print(\"예측 요약 :\", decode_sequence(encoder_input_test[i].reshape(1, text_max_len)))\n",
    "    print(\"\\n\")"
   ]
  },
  {
   "cell_type": "markdown",
   "id": "85d34281",
   "metadata": {},
   "source": [
    "Step 5. Summa을 이용해서 추출적 요약해보기"
   ]
  },
  {
   "cell_type": "code",
   "execution_count": 77,
   "id": "942d6e7b",
   "metadata": {},
   "outputs": [],
   "source": [
    "import requests\n",
    "from summa.summarizer import summarize"
   ]
  },
  {
   "cell_type": "code",
   "execution_count": 78,
   "id": "e4f82859",
   "metadata": {},
   "outputs": [
    {
     "name": "stdout",
     "output_type": "stream",
     "text": [
      "원문 : saurav kant alumnus upgrad iiit pg program machine learning artificial intelligence sr systems engineer infosys almost years work experience program upgrad degree career support helped transition data scientist tech mahindra salary hike upgrad online power learning powered lakh careers\n",
      "실제 요약 : upgrad learner switches to career in ml al with salary hike\n",
      "예측 요약 : \n",
      "\n",
      "\n",
      "원문 : kunal shah credit card bill payment platform cred gave users chance win free food swiggy one year pranav kaushik delhi techie bagged reward spending cred coins users get one cred coin per rupee bill paid used avail rewards brands like ixigo bookmyshow ubereats cult fit\n",
      "실제 요약 : delhi techie wins free food from swiggy for one year on cred\n",
      "예측 요약 : \n",
      "\n",
      "\n",
      "원문 : new zealand defeated india wickets fourth odi hamilton thursday win first match five match odi series india lost international match rohit sharma captaincy consecutive victories dating back march match witnessed india getting seventh lowest total odi cricket history\n",
      "실제 요약 : new zealand end rohit sharma led india match winning streak\n",
      "예측 요약 : \n",
      "\n",
      "\n",
      "원문 : aegon life iterm insurance plan customers enjoy tax benefits premiums paid save taxes plan provides life cover age years also customers options insure critical illnesses disability accidental death benefit rider life cover age years\n",
      "실제 요약 : aegon life iterm insurance plan helps customers save tax\n",
      "예측 요약 : \n",
      "\n",
      "\n",
      "원문 : speaking sexual harassment allegations rajkumar hirani sonam kapoor said known hirani many years true metoo movement get derailed metoo movement always believe woman case need reserve judgment added hirani accused assistant worked sanju\n",
      "실제 요약 : have known hirani for yrs what if metoo claims are not true sonam\n",
      "예측 요약 : \n",
      "\n",
      "\n",
      "원문 : pakistani singer rahat fateh ali khan denied receiving notice enforcement directorate allegedly smuggling foreign currency india would better authorities would served notice first publicised reads press release issued behalf rahat statement called allegation bizarre\n",
      "실제 요약 : rahat fateh ali khan denies getting notice for smuggling currency\n",
      "예측 요약 : \n",
      "\n",
      "\n",
      "원문 : india recorded lowest odi total new zealand getting runs overs fourth odi hamilton thursday seven india batsmen dismissed single digit scores number ten batsman yuzvendra chahal top scored india previous lowest odi total new zealand\n",
      "실제 요약 : india get all out for their lowest odi total in new zealand\n",
      "예측 요약 : \n",
      "\n",
      "\n",
      "원문 : weeks ex cbi director alok verma told department personnel training consider retired home ministry asked join work last day fixed tenure director thursday ministry directed immediately join dg fire services post transferred removal cbi chief\n",
      "실제 요약 : govt directs alok verma to join work day before his retirement\n",
      "예측 요약 : \n",
      "\n",
      "\n",
      "원문 : andhra pradesh cm chandrababu naidu said met us president bill clinton addressed mr clinton sir modi junior politics addressed sir times satisfy ego hope justice state added\n",
      "실제 요약 : called pm modi sir times to satisfy his ego andhra cm\n",
      "예측 요약 : \n",
      "\n",
      "\n",
      "원문 : congress candidate shafia zubair ramgarh assembly seat rajasthan defeating bjp sukhwant singh margin votes bypoll victory congress taken total seats member assembly election ramgarh seat delayed due death sitting mla bsp candidate laxman singh\n",
      "실제 요약 : cong wins ramgarh bypoll in rajasthan takes total to seats\n",
      "예측 요약 : \n",
      "\n",
      "\n",
      "원문 : two minor cousins uttar pradesh gorakhpur allegedly repeatedly burnt tongs forced eat human excreta family friends two boys school cousins revealed ordeal police child welfare committee brought back gorakhpur nepal fled escape torture\n",
      "실제 요약 : up cousins fed human excreta for friendship with boys\n",
      "예측 요약 : \n",
      "\n",
      "\n",
      "원문 : isha ghosh year old member bharat scouts guides imparting physical mental training schoolchildren jharkhand several decades chaibasa based ghosh reportedly walks seven kilometres daily spends eight hours conducting physical training apart climbing yoga sessions says one something society till one last breath\n",
      "실제 요약 : yr old woman conducts physical training in khand schools\n",
      "예측 요약 : \n",
      "\n",
      "\n",
      "원문 : urging saints seers kumbh mela quit smoking yoga guru ramdev said follow ram krishna never smoked life making take pledge quit tobacco collected chillum several sadhus said deposit chillums display museum build\n",
      "실제 요약 : ram krishna did not smoke why should we ramdev to sadhus at kumbh\n",
      "예측 요약 : \n",
      "\n",
      "\n",
      "원문 : former stripper regional sales director pharmaceutical company sunrise lee gave doctor lap dance nightclub persuade prescribe addictive fentanyl spray company sales representative told us court said saw lee sitting doctor lap kind bouncing around lee accused bribing doctors\n",
      "실제 요약 : pharma exec gave doctor lap dance to sell medicine in us witness\n",
      "예측 요약 : \n",
      "\n",
      "\n",
      "원문 : reliance industries chairman mukesh ambani daughter isha ambani got married last month said cried bidaai felt peer pressure everyone crying especially parents emotional everyone around would cry time added emotional affair everyone family said isha\n",
      "실제 요약 : only cried at my bidaai as felt peer pressure isha ambani\n",
      "예측 요약 : \n",
      "\n",
      "\n",
      "원문 : louis vuitton owner lvmh makes high end beverages like mo chandon champagne hennessy cognac said stockpiling four months worth wine spirits uk preparation brexit ready worst case scenario difficulties deliveries french luxury giant said uk scheduled leave eu march\n",
      "실제 요약 : louis vuitton owner to stockpile months of wine spirits in uk\n",
      "예측 요약 : \n",
      "\n",
      "\n",
      "원문 : filmmaker karan johar actress tabu turned showstoppers gaurav gupta opening night lakm fashion week summer resort johar wore red sequinned jacket black pants tabu walked ramp grey embellished gown fashion show began january continue till february\n",
      "실제 요약 : karan johar tabu turn showstoppers on opening night of lfw\n",
      "예측 요약 : \n",
      "\n",
      "\n",
      "원문 : jibe congress president rahul gandhi pm narendra modi wednesday said bail go jail pm modi added bail associates facing charges know convicted one day pm claimed would waged war corruption common household\n",
      "실제 요약 : those on bail will go to jail pm modi takes jibe at rahul\n",
      "예측 요약 : \n",
      "\n",
      "\n",
      "원문 : days threatened step post congress mlas continue crossing line karnataka chief minister hd kumaraswamy accused taking potshots asked many days tolerate stuff kumaraswamy made statements congress mla demanded siddaramaiah made cm said power ephemeral\n",
      "실제 요약 : how long can tolerate congress leaders potshots taka cm\n",
      "예측 요약 : \n",
      "\n",
      "\n",
      "원문 : union minister dharmendra pradhan wednesday claimed illegal mining mafia odisha operates control cm naveen patnaik state congress chief niranjan patnaik added time come people odisha put full stop activities time come us ask explanation corrupt government\n",
      "실제 요약 : odisha cm patnaik controls mining mafia union minister\n",
      "예측 요약 : \n",
      "\n",
      "\n",
      "원문 : claiming dearth ideas among opposition parties prime minister narendra modi wednesday said opposition talks modi whole day suspect even dream pm modi addressing new india youth conclave surat added opposition parties one agenda modi\n",
      "실제 요약 : think the opposition even dreams about me pm modi\n",
      "예측 요약 : \n",
      "\n",
      "\n",
      "원문 : indian space research organisation wednesday unveiled human space flight centre bengaluru crore manned space mission gaganyaan scheduled isro said centre responsible development engineering systems crew survival space crew selection training also pursue activities sustained human space flight missions isro added\n",
      "실제 요약 : isro unveils bengaluru centre for manned space mission\n",
      "예측 요약 : \n",
      "\n",
      "\n",
      "원문 : least people killed others injured saudi arabia week due flooding heavy rain emergency services rescued people flooded areas half tabuk heavy rains hit mainly western northwestern parts saudi arabia near border jordan\n",
      "실제 요약 : killed injured in saudi arabia floods\n",
      "예측 요약 : \n",
      "\n",
      "\n",
      "원문 : reliance industries chairman mukesh ambani daughter isha ambani featured cover february edition vogue india dressed white shirt dress black ruffled skirt australian designer toni maticevski accessorising look misho ring cover story isha spoken work life marriage\n",
      "실제 요약 : isha ambani features on february cover of vogue magazine\n",
      "예측 요약 : \n",
      "\n",
      "\n",
      "원문 : indian oil corporation wednesday said looking annual deal buy us crude seeks broaden oil purchasing options comes amid uncertainties iran imports us november granted six month waiver india sanctions iran restricted country monthly intake iranian oil barrels per day\n",
      "실제 요약 : indian oil looking for annual deal to buy crude from us\n",
      "예측 요약 : \n",
      "\n",
      "\n",
      "원문 : former windies fast bowler curtly ambrose dismissed seven australian batsmen within span balls giving away one run test match january ambrose spell helped team bowl australia first innings one point ambrose ended first innings figures\n",
      "실제 요약 : pacer once took wickets for just run in balls in test\n",
      "예측 요약 : \n",
      "\n",
      "\n",
      "원문 : london zoo offering people name cockroach exes valentine day quite require revenge another way make feel better getting back ex zoo said statement names appear zoo roach board february\n",
      "실제 요약 : uk zoo offers people to name cockroach after their ex on valentine\n",
      "예측 요약 : \n",
      "\n",
      "\n",
      "원문 : stand captain rohit sharma become th indian cricketer play odis achieving feat taking field new zealand fourth odi hamilton thursday year old made odi debut june ireland belfast rohit scored runs first odis average\n",
      "실제 요약 : rohit sharma becomes th indian cricketer to play odis\n",
      "예측 요약 : \n",
      "\n",
      "\n",
      "원문 : batsman shubman gill become th cricketer represent india odi cricket achieving feat new zealand fourth odi hamilton thursday year old received maiden odi cap former captain ms dhoni notably shubman named player world cup new zealand last year\n",
      "실제 요약 : year old shubman gill becomes india th odi cricketer\n",
      "예측 요약 : \n",
      "\n",
      "\n",
      "원문 : investigators searching lost plane carrying argentine forward emiliano sala found two seat cushions french coast likely belonged aircraft investigators said launch underwater seabed search aircraft wreckage cardiff city footballer travelling france nantes wales cardiff plane disappeared english channel january\n",
      "실제 요약 : seat cushions from missing plane carrying footballer found\n",
      "예측 요약 : \n",
      "\n",
      "\n",
      "원문 : italian third division football side lucchese head coach giancarlo favarin banned five months headbutting alessandria assistant coach gaetano mancino brawl following teams draw sunday mancino caught balance knocked ground headbutt earlier match favarin told player break opponent legs\n",
      "실제 요약 : italian coach knocks rival down with headbutt banned for months\n",
      "예측 요약 : \n",
      "\n",
      "\n",
      "원문 : cyclists taking part national track cycling championship jaipur opted sleep floor inside stadium instead hotels expensive cycles organisers booked hotels provision cyclists keep bikes inside national gold medallist said cycles cost lakh damaged become non repairable\n",
      "실제 요약 : cyclists sleep on stadium floor instead of hotel over costly cycles\n",
      "예측 요약 : \n",
      "\n",
      "\n",
      "원문 : silvia grecco year old brazilian mother narrates local football team palmeiras matches live year old blind autistic son nickollas stands describe details player wearing short sleeves colour football boots hair colour everything see feel tell even need curse referee grecco said recent match\n",
      "실제 요약 : brazilian mother narrates football matches to blind son from stands\n",
      "예측 요약 : \n",
      "\n",
      "\n",
      "원문 : techcrunch report claimed india largest bank sbi secured passwordless server overnight alerted allowed anyone access phone numbers bank balances transactions millions customers mumbai based server containing two months data sbi quick sms call based system used request basic information accounts techcrunch revealed\n",
      "실제 요약 : sbi left account data of millions of users unprotected report\n",
      "예측 요약 : \n",
      "\n",
      "\n",
      "원문 : rahul gandhi replied goa cm manohar parrikar letter accused congress president using visit ailing man political gains immense pressure pm meeting needs demonstrate loyalty attacking gandhi wrote letter parrikar clarified discuss rafale deal rahul\n",
      "실제 요약 : cm parrikar under pressure from pm after our goa meet rahul\n",
      "예측 요약 : \n",
      "\n",
      "\n",
      "원문 : twenty seven year old mohammed mahuwala arrested indore wednesday allegedly cheating commerce giant amazon nearly lakh mahuwala member gang ordered costly gadgets amazon used get refund amount paid saying parcel empty reality devices taken parcel sold local shopkeepers said police\n",
      "실제 요약 : man arrested for cheating amazon of lakh by taking refunds\n",
      "예측 요약 : \n",
      "\n",
      "\n",
      "원문 : agustawestland chopper scam co accused rajiv saxena extradited india uae wednesday evading enforcement directorate summons claiming suffering leukaemia moved anti money laundering court anticipatory bail december stating never summoned dubai address saxena lawyers alleged illegally extradited\n",
      "실제 요약 : agustawestland scam accused rajiv saxena extradited to india\n",
      "예측 요약 : \n",
      "\n",
      "\n",
      "원문 : afghan president ashraf ghani said keys war pakistan islamabad quetta rawalpindi accusing country providing safe havens militants including belonging taliban ghani added key peace afghanistan comments came amid talks us taliban end year war afghanistan\n",
      "실제 요약 : pakistan holds keys to war afghanistan\n",
      "예측 요약 : \n",
      "\n",
      "\n",
      "원문 : singapore based insurance agent jailed two years five months threatening harm clients unless paid bitcoins year old set email account signed messages lord voldemort fictional character harry potter series ye lin myint targeted people including cancelled insurance policies\n",
      "실제 요약 : insurance agent lord voldemort jailed for threatening clients\n",
      "예측 요약 : \n",
      "\n",
      "\n",
      "원문 : gabrielle reilly year old us woman created earrings apple airpods put sale online absolutely refuse lose made earrings explained earrings took hour make debuted video twitter since garnered three million views\n",
      "실제 요약 : woman turns apple airpods into earrings to avoid losing them\n",
      "예측 요약 : \n",
      "\n",
      "\n",
      "원문 : ex icici bank ceo chanda kochhar said utterly disappointed hurt shocked bank decision terminate kochhar said served icici years utmost honesty integrity ultimately truth prevail adding given copy independent probe report kochhar said none icici credit decisions unilateral\n",
      "실제 요약 : shocked hurt by icici decision truth will prevail kochhar\n",
      "예측 요약 : \n",
      "\n",
      "\n",
      "원문 : swedish multinational fast fashion brand hennes mauritz ab hired christopher wylie whistleblower exposed facebook cambridge analytica data scandal wylie focus help get better insights customers products markets support work sustainable ethical artificial intelligence spokesperson said wylie former employee cambridge analytica\n",
      "실제 요약 : fashion brand hires facebook data scandal whistleblower\n",
      "예측 요약 : \n",
      "\n",
      "\n",
      "원문 : micro blogging platform twitter testing new feature android put news top user timeline update making easier people see news stories followers discussing product manager walter gurzynski said feature comes alongside prompt saying catch happened away\n",
      "실제 요약 : twitter testing news first timeline feature on android\n",
      "예측 요약 : \n",
      "\n",
      "\n",
      "원문 : samsung started mass producing one terabyte embedded universal flash storage technology use next generation mobile applications claims industry first eufs company added new eufs let smartphones store minute videos shot uhd format sized previous gb version samsung said\n",
      "실제 요약 : samsung builds world first tb storage chip for smartphones\n",
      "예측 요약 : \n",
      "\n",
      "\n",
      "원문 : prime minister narendra modi wednesday said people negative mindset questioning government floating pro poor schemes added negative mindset people raising doubts schemes building toilets providing free gas connections poor said negative mentality laced vested interest still exists country\n",
      "실제 요약 : people with negative mindset quizzing pro poor schemes pm\n",
      "예측 요약 : \n",
      "\n",
      "\n",
      "원문 : union minister anantkumar hegde took dig congress president rahul gandhi calling hybrid specimen clue religion father muslim mother christian son supposed brahmin even possible said added hybrid specimen cannot found laboratory world\n",
      "실제 요약 : rahul is hybrid specimen has no clue about religion hegde\n",
      "예측 요약 : \n",
      "\n",
      "\n",
      "원문 : several parts us set experience record low temperatures polar vortex hit upper midwest million people expected experience freezing temperatures week temperatures throughout upper midwest expected least zero government offices schools closed several areas\n",
      "실제 요약 : extreme cold to affect million people as polar vortex hits us\n",
      "예측 요약 : \n",
      "\n",
      "\n",
      "원문 : police wednesday registered cases persons including woman leader hindu mahasabha aligarh firing effigy mahatma gandhi air pistol incident took place house naurangabad locality city senior superintendent police said video event went viral social media added\n",
      "실제 요약 : booked for firing air shots at mahatma gandhi effigy\n",
      "예측 요약 : \n",
      "\n",
      "\n",
      "원문 : railway police rescued woman travelling train chennai got leg stuck inside commode toilet caught inside commode hole struggled remove leg following failed attempts shouted help reports said railway police used cutter pry open commode freed leg\n",
      "실제 요약 : railway police rescues woman with leg stuck in train toilet\n",
      "예측 요약 : \n",
      "\n",
      "\n",
      "원문 : us tuesday began returning asylum seekers mexico sending back migrant central american nation called move response illegal migration crisis faced migrant protection protocols policy us return certain migrants cross country illegally back mexico asylum requests processed\n",
      "실제 요약 : us begins sending back asylum seekers to mexico\n",
      "예측 요약 : \n",
      "\n",
      "\n"
     ]
    }
   ],
   "source": [
    "for i in range(0, 50):\n",
    "    print(\"원문 :\", data['text'][i])\n",
    "    print(\"실제 요약 :\", data['headlines'][i])\n",
    "    print(\"예측 요약 :\", summarize(data['text'][i], ratio=0.4))\n",
    "    \n",
    "    print(\"\\n\")"
   ]
  },
  {
   "cell_type": "code",
   "execution_count": 71,
   "id": "22b9c7f3",
   "metadata": {},
   "outputs": [],
   "source": [
    "text = requests.get('http://rare-technologies.com/the_matrix_synopsis.txt').text"
   ]
  },
  {
   "cell_type": "code",
   "execution_count": 72,
   "id": "47439caf",
   "metadata": {},
   "outputs": [
    {
     "name": "stdout",
     "output_type": "stream",
     "text": [
      "The screen is filled with green, cascading code which gives way to the title, The Matrix.\r\n",
      "\r\n",
      "A phone rings and text appears on the screen: \"Call trans opt: received. 2-19-98 13:24:18 REC: Log>\" As a conversation takes place between Trinity (Carrie-Anne Moss) and Cypher (Joe Pantoliano), two free humans, a table of random green numbers are being scanned and individual numbers selected, creating a series of digits not unlike an ordinary phone number, as if a code is being deciphered or a call is being traced.\r\n",
      "\r\n",
      "Trinity discusses some unknown person. Cypher taunts Trinity, suggesting she enjoys watching him. Trinity counters that \"Morpheus (Laurence Fishburne) says he may be 'the One',\" just as the sound of a number being selected alerts Trinity that someone may be tracing their call. She ends the call.\r\n",
      "\r\n",
      "Armed policemen move down a darkened, decrepit hallway in the Heart O' the City Hotel, their flashlight beam bouncing just ahead of them. They come to room 303, kick down the door and find a woman dressed in black, facing away from them. It's Trinity. She brings her hands up from the laptop she's working on at their command.\r\n",
      "\r\n",
      "Outside the hotel a car drives up and three agents appear in neatly pressed black suits. They are Agent Smith (Hugo Weaving), Agent Brown (Paul Goddard), and Agent Jones (Robert Taylor). Agent Smith and the presiding police lieutenant argue. Agent Smith admonishes the policeman that they were given specific orders to contact the agents first, for their\n"
     ]
    }
   ],
   "source": [
    "print(text[:1500])"
   ]
  },
  {
   "cell_type": "code",
   "execution_count": 73,
   "id": "55ace219",
   "metadata": {},
   "outputs": [
    {
     "name": "stdout",
     "output_type": "stream",
     "text": [
      "text:\n",
      "Morpheus, Trinity, Neo, Apoc, Switch, Mouse and Cypher are jacked into the Matrix.\n",
      "Trinity brings the helicopter down to the floor that Morpheus is on and Neo opens fire on the three Agents.\n"
     ]
    }
   ],
   "source": [
    "print('text:')\n",
    "print(summarize(text, ratio=0.005))"
   ]
  },
  {
   "cell_type": "code",
   "execution_count": 74,
   "id": "78968d50",
   "metadata": {},
   "outputs": [
    {
     "name": "stdout",
     "output_type": "stream",
     "text": [
      "text:\n",
      "['Morpheus, Trinity, Neo, Apoc, Switch, Mouse and Cypher are jacked into the Matrix.', 'Trinity brings the helicopter down to the floor that Morpheus is on and Neo opens fire on the three Agents.']\n"
     ]
    }
   ],
   "source": [
    "print('text:')\n",
    "print(summarize(text, ratio=0.005, split=True))"
   ]
  },
  {
   "cell_type": "code",
   "execution_count": 75,
   "id": "43b48c5c",
   "metadata": {},
   "outputs": [
    {
     "name": "stdout",
     "output_type": "stream",
     "text": [
      "text:\n",
      "Trinity takes Neo to Morpheus.\n",
      "Morpheus, Trinity, Neo, Apoc, Switch, Mouse and Cypher are jacked into the Matrix.\n",
      "Trinity brings the helicopter down to the floor that Morpheus is on and Neo opens fire on the three Agents.\n"
     ]
    }
   ],
   "source": [
    "print('text:')\n",
    "print(summarize(text, words=50))"
   ]
  },
  {
   "cell_type": "markdown",
   "id": "72f29284",
   "metadata": {},
   "source": [
    " ## 회고록\n",
    "    \n",
    " 이번에도 노드에 있는 내용을 참고해서 따라해서 어렵지 않았다.\n",
    "메서드를 Text','Summary'에서 'headlines','text'로 바꿔주었고, 효민님 스터디에서 배운 내용들이 도움이 많이 되었다.(결측치, 시각화, 데이터 보는 방법) 그리고 샘플 길이에서 에러가 나서 애 좀 먹었는데, 구글링에서 서치해서 찾아서 에러를 수정했다.\n",
    "\n",
    "그리고 포문을 레인지를 이용한 요약하는 코드를  summarize로 변수로 바꾸어서 한번 돌려보았다.  Summa을 이용한 추출 요약에서 예측 요약이 많이 생략되어 있었다."
   ]
  }
 ],
 "metadata": {
  "kernelspec": {
   "display_name": "Python 3 (ipykernel)",
   "language": "python",
   "name": "python3"
  },
  "language_info": {
   "codemirror_mode": {
    "name": "ipython",
    "version": 3
   },
   "file_extension": ".py",
   "mimetype": "text/x-python",
   "name": "python",
   "nbconvert_exporter": "python",
   "pygments_lexer": "ipython3",
   "version": "3.9.7"
  }
 },
 "nbformat": 4,
 "nbformat_minor": 5
}
