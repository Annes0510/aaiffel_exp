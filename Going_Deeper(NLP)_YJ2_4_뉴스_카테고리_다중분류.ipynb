{
  "nbformat": 4,
  "nbformat_minor": 0,
  "metadata": {
    "colab": {
      "name": "Going Deeper(NLP)_YJ2  4. 뉴스 카테고리 다중분류",
      "provenance": [],
      "collapsed_sections": []
    },
    "kernelspec": {
      "name": "python3",
      "display_name": "Python 3"
    },
    "language_info": {
      "name": "python"
    }
  },
  "cells": [
    {
      "cell_type": "markdown",
      "source": [
        ""
      ],
      "metadata": {
        "id": "XpUzVR6Q4dis"
      }
    },
    {
      "cell_type": "markdown",
      "source": [
        "1.데이터 로드"
      ],
      "metadata": {
        "id": "o74Nbxcf4hDo"
      }
    },
    {
      "cell_type": "code",
      "source": [
        "from tensorflow.keras.datasets import reuters\n",
        "import matplotlib.pyplot as plt\n",
        "import seaborn as sns\n",
        "import numpy as np\n",
        "import pandas as pd\n",
        "import sklearn\n",
        "\n"
      ],
      "metadata": {
        "id": "ZwEe5yKw4jsq"
      },
      "execution_count": 4,
      "outputs": []
    },
    {
      "cell_type": "code",
      "source": [
        "# 빈도수 상위 5,000개의 단어만 사용\n",
        "(x_train, y_train), (x_test, y_test) = reuters.load_data(num_words=5000, test_split=0.2)"
      ],
      "metadata": {
        "id": "dWaZJqVc4sYE"
      },
      "execution_count": 5,
      "outputs": []
    },
    {
      "cell_type": "code",
      "source": [
        "print('훈련 샘플의 수: {}'.format(len(x_train)))\n",
        "print('테스트 샘플의 수: {}'.format(len(x_test)))"
      ],
      "metadata": {
        "colab": {
          "base_uri": "https://localhost:8080/"
        },
        "id": "yjjQPWQa56ol",
        "outputId": "c2366d90-daf3-438e-a4f5-a6605f1c769f"
      },
      "execution_count": 6,
      "outputs": [
        {
          "output_type": "stream",
          "name": "stdout",
          "text": [
            "훈련 샘플의 수: 8982\n",
            "테스트 샘플의 수: 2246\n"
          ]
        }
      ]
    },
    {
      "cell_type": "markdown",
      "source": [
        "데이터 출력해보기"
      ],
      "metadata": {
        "id": "shPffSFS6IIY"
      }
    },
    {
      "cell_type": "code",
      "source": [
        "print(x_train[0])\n",
        "print(x_test[0])"
      ],
      "metadata": {
        "colab": {
          "base_uri": "https://localhost:8080/"
        },
        "id": "pzvjUrui6JGL",
        "outputId": "830fc74d-caf9-4994-c7b2-6adea3fa94ba"
      },
      "execution_count": 7,
      "outputs": [
        {
          "output_type": "stream",
          "name": "stdout",
          "text": [
            "[1, 2, 2, 8, 43, 10, 447, 5, 25, 207, 270, 5, 3095, 111, 16, 369, 186, 90, 67, 7, 89, 5, 19, 102, 6, 19, 124, 15, 90, 67, 84, 22, 482, 26, 7, 48, 4, 49, 8, 864, 39, 209, 154, 6, 151, 6, 83, 11, 15, 22, 155, 11, 15, 7, 48, 9, 4579, 1005, 504, 6, 258, 6, 272, 11, 15, 22, 134, 44, 11, 15, 16, 8, 197, 1245, 90, 67, 52, 29, 209, 30, 32, 132, 6, 109, 15, 17, 12]\n",
            "[1, 4, 1378, 2025, 9, 697, 4622, 111, 8, 25, 109, 29, 3650, 11, 150, 244, 364, 33, 30, 30, 1398, 333, 6, 2, 159, 9, 1084, 363, 13, 2, 71, 9, 2, 71, 117, 4, 225, 78, 206, 10, 9, 1214, 8, 4, 270, 5, 2, 7, 748, 48, 9, 2, 7, 207, 1451, 966, 1864, 793, 97, 133, 336, 7, 4, 493, 98, 273, 104, 284, 25, 39, 338, 22, 905, 220, 3465, 644, 59, 20, 6, 119, 61, 11, 15, 58, 579, 26, 10, 67, 7, 4, 738, 98, 43, 88, 333, 722, 12, 20, 6, 19, 746, 35, 15, 10, 9, 1214, 855, 129, 783, 21, 4, 2280, 244, 364, 51, 16, 299, 452, 16, 515, 4, 99, 29, 5, 4, 364, 281, 48, 10, 9, 1214, 23, 644, 47, 20, 324, 27, 56, 2, 2, 5, 192, 510, 17, 12]\n"
          ]
        }
      ]
    },
    {
      "cell_type": "code",
      "source": [
        "print(y_train[0])\n",
        "print(y_test[0])"
      ],
      "metadata": {
        "colab": {
          "base_uri": "https://localhost:8080/"
        },
        "id": "smL5c1qf6Lnp",
        "outputId": "250797a4-8591-41a9-8776-2f1cc466e6a7"
      },
      "execution_count": 8,
      "outputs": [
        {
          "output_type": "stream",
          "name": "stdout",
          "text": [
            "3\n",
            "3\n"
          ]
        }
      ]
    },
    {
      "cell_type": "code",
      "source": [
        "num_classes = max(y_train) + 1\n",
        "print('클래스의 수 : {}'.format(num_classes))"
      ],
      "metadata": {
        "colab": {
          "base_uri": "https://localhost:8080/"
        },
        "id": "iUsC6VT86U2n",
        "outputId": "cae34ce9-2367-463a-e290-9b97f1382fa2"
      },
      "execution_count": 9,
      "outputs": [
        {
          "output_type": "stream",
          "name": "stdout",
          "text": [
            "클래스의 수 : 46\n"
          ]
        }
      ]
    },
    {
      "cell_type": "markdown",
      "source": [
        "데이터 분포 확인"
      ],
      "metadata": {
        "id": "Hg-T8VRw6lNd"
      }
    },
    {
      "cell_type": "code",
      "source": [
        "print('훈련용 뉴스의 최대 길이 :{}'.format(max(len(l) for l in x_train)))\n",
        "print('훈련용 뉴스의 평균 길이 :{}'.format(sum(map(len, x_train))/len(x_train)))\n",
        "\n",
        "plt.hist([len(s) for s in x_train], bins=50)\n",
        "plt.xlabel('length of samples')\n",
        "plt.ylabel('number of samples')\n",
        "plt.show()"
      ],
      "metadata": {
        "colab": {
          "base_uri": "https://localhost:8080/",
          "height": 314
        },
        "id": "_dUNfzGA6mfH",
        "outputId": "cd18c3b5-6e16-4b67-9a46-af78d7938202"
      },
      "execution_count": 10,
      "outputs": [
        {
          "output_type": "stream",
          "name": "stdout",
          "text": [
            "훈련용 뉴스의 최대 길이 :2376\n",
            "훈련용 뉴스의 평균 길이 :145.5398574927633\n"
          ]
        },
        {
          "output_type": "display_data",
          "data": {
            "text/plain": [
              "<Figure size 432x288 with 1 Axes>"
            ],
            "image/png": "[encoded data removed]"
          },
          "metadata": {
            "needs_background": "light"
          }
        }
      ]
    },
    {
      "cell_type": "code",
      "source": [
        "fig, axe = plt.subplots(ncols=1)\n",
        "fig.set_size_inches(11,5)\n",
        "sns.countplot(x=y_train)\n",
        "plt.show()"
      ],
      "metadata": {
        "colab": {
          "base_uri": "https://localhost:8080/",
          "height": 320
        },
        "id": "lr69Elr56uI_",
        "outputId": "ea3afd00-3c7e-476e-d07a-12e7e01f3e9c"
      },
      "execution_count": 11,
      "outputs": [
        {
          "output_type": "display_data",
          "data": {
            "text/plain": [
              "<Figure size 792x360 with 1 Axes>"
            ],
            "image/png": "[encoded data removed]"
          },
          "metadata": {
            "needs_background": "light"
          }
        }
      ]
    },
    {
      "cell_type": "code",
      "source": [
        "unique_elements, counts_elements = np.unique(y_train, return_counts=True)\n",
        "print(\"각 클래스 빈도수:\")\n",
        "print(np.asarray((unique_elements, counts_elements)))"
      ],
      "metadata": {
        "colab": {
          "base_uri": "https://localhost:8080/"
        },
        "id": "yrZIqT_96zqq",
        "outputId": "d62f345d-4764-4ba2-9e80-390184a7c0e0"
      },
      "execution_count": 12,
      "outputs": [
        {
          "output_type": "stream",
          "name": "stdout",
          "text": [
            "각 클래스 빈도수:\n",
            "[[   0    1    2    3    4    5    6    7    8    9   10   11   12   13\n",
            "    14   15   16   17   18   19   20   21   22   23   24   25   26   27\n",
            "    28   29   30   31   32   33   34   35   36   37   38   39   40   41\n",
            "    42   43   44   45]\n",
            " [  55  432   74 3159 1949   17   48   16  139  101  124  390   49  172\n",
            "    26   20  444   39   66  549  269  100   15   41   62   92   24   15\n",
            "    48   19   45   39   32   11   50   10   49   19   19   24   36   30\n",
            "    13   21   12   18]]\n"
          ]
        }
      ]
    },
    {
      "cell_type": "markdown",
      "source": [
        "데이터 복원하기"
      ],
      "metadata": {
        "id": "Ujmadoye64TX"
      }
    },
    {
      "cell_type": "code",
      "source": [
        "word_index = reuters.get_word_index(path=\"reuters_word_index.json\")"
      ],
      "metadata": {
        "colab": {
          "base_uri": "https://localhost:8080/"
        },
        "id": "590QxL3L645S",
        "outputId": "f6145c87-c63f-4cde-ff6c-cd75aa1dbd82"
      },
      "execution_count": 13,
      "outputs": [
        {
          "output_type": "stream",
          "name": "stdout",
          "text": [
            "Downloading data from https://storage.googleapis.com/tensorflow/tf-keras-datasets/reuters_word_index.json\n",
            "557056/550378 [==============================] - 0s 0us/step\n",
            "565248/550378 [==============================] - 0s 0us/step\n"
          ]
        }
      ]
    },
    {
      "cell_type": "code",
      "source": [
        "index_to_word = { index+3 : word for word, index in word_index.items() }"
      ],
      "metadata": {
        "id": "ESZKspO-7BGh"
      },
      "execution_count": 14,
      "outputs": []
    },
    {
      "cell_type": "code",
      "source": [
        "# index_to_word에 숫자 0은 <pad>, 숫자 1은 <sos>, 숫자 2는 <unk>를 넣어줍니다.\n",
        "for index, token in enumerate((\"<pad>\", \"<sos>\", \"<unk>\")):\n",
        "  index_to_word[index]=token"
      ],
      "metadata": {
        "id": "KVRR9PzL7PbT"
      },
      "execution_count": 15,
      "outputs": []
    },
    {
      "cell_type": "code",
      "source": [
        "print(' '.join([index_to_word[index] for index in x_train[0]]))"
      ],
      "metadata": {
        "colab": {
          "base_uri": "https://localhost:8080/"
        },
        "id": "k9MpHC_f7bZt",
        "outputId": "029437be-70c6-4fa5-d422-a4a8344d4087"
      },
      "execution_count": 16,
      "outputs": [
        {
          "output_type": "stream",
          "name": "stdout",
          "text": [
            "<sos> <unk> <unk> said as a result of its december acquisition of space co it expects earnings per share in 1987 of 1 15 to 1 30 dlrs per share up from 70 cts in 1986 the company said pretax net should rise to nine to 10 mln dlrs from six mln dlrs in 1986 and rental operation revenues to 19 to 22 mln dlrs from 12 5 mln dlrs it said cash flow per share this year should be 2 50 to three dlrs reuter 3\n"
          ]
        }
      ]
    },
    {
      "cell_type": "code",
      "source": [
        "print(' '.join([index_to_word[index] for index in [4, 587, 23, 133, 6, 30, 515]]))"
      ],
      "metadata": {
        "colab": {
          "base_uri": "https://localhost:8080/"
        },
        "id": "HYk0DCWO7cIK",
        "outputId": "245c94f5-07cd-4b75-ce7b-8c261ed7ff80"
      },
      "execution_count": 17,
      "outputs": [
        {
          "output_type": "stream",
          "name": "stdout",
          "text": [
            "the transaction is expected to be completed\n"
          ]
        }
      ]
    },
    {
      "cell_type": "markdown",
      "source": [
        " 텍스트 데이터로 변환"
      ],
      "metadata": {
        "id": "eavPvJSB7fgj"
      }
    },
    {
      "cell_type": "code",
      "source": [
        "decoded = []\n",
        "for i in range(len(x_train)):\n",
        "    t = ' '.join([index_to_word[index] for index in x_train[i]])\n",
        "    decoded.append(t)\n",
        "\n",
        "x_train = decoded\n",
        "print(len(x_train))"
      ],
      "metadata": {
        "colab": {
          "base_uri": "https://localhost:8080/"
        },
        "id": "H3ikz0ya7gSi",
        "outputId": "b168cd02-6f3d-47c4-c0b4-8ffe7653789e"
      },
      "execution_count": 18,
      "outputs": [
        {
          "output_type": "stream",
          "name": "stdout",
          "text": [
            "8982\n"
          ]
        }
      ]
    },
    {
      "cell_type": "code",
      "source": [
        "decoded = []\n",
        "for i in range(len(x_test)):\n",
        "    t = ' '.join([index_to_word[index] for index in x_test[i]])\n",
        "    decoded.append(t)\n",
        "\n",
        "x_test = decoded\n",
        "print(len(x_test))"
      ],
      "metadata": {
        "colab": {
          "base_uri": "https://localhost:8080/"
        },
        "id": "_5YwCid99Bjc",
        "outputId": "fff637c4-4be9-4e60-9a0c-40df7681c099"
      },
      "execution_count": 19,
      "outputs": [
        {
          "output_type": "stream",
          "name": "stdout",
          "text": [
            "2246\n"
          ]
        }
      ]
    },
    {
      "cell_type": "code",
      "source": [
        "x_train[:5]"
      ],
      "metadata": {
        "colab": {
          "base_uri": "https://localhost:8080/"
        },
        "id": "Bi56Ydng9EC6",
        "outputId": "ca736f77-66b5-4829-8f9f-2f82754a0d4c"
      },
      "execution_count": 20,
      "outputs": [
        {
          "output_type": "execute_result",
          "data": {
            "text/plain": [
              "['<sos> <unk> <unk> said as a result of its december acquisition of space co it expects earnings per share in 1987 of 1 15 to 1 30 dlrs per share up from 70 cts in 1986 the company said pretax net should rise to nine to 10 mln dlrs from six mln dlrs in 1986 and rental operation revenues to 19 to 22 mln dlrs from 12 5 mln dlrs it said cash flow per share this year should be 2 50 to three dlrs reuter 3',\n",
              " '<sos> generale de banque sa lt <unk> <unk> and lt heller overseas corp of chicago have each taken 50 pct stakes in <unk> company sa <unk> factors generale de banque said in a statement it gave no financial details of the transaction sa <unk> <unk> turnover in 1986 was 17 5 billion belgian francs reuter 3',\n",
              " '<sos> shr 3 28 dlrs vs 22 cts shr diluted 2 99 dlrs vs 22 cts net 46 0 mln vs 3 328 000 avg shrs 14 0 mln vs 15 2 mln year shr 5 41 dlrs vs 1 56 dlrs shr diluted 4 94 dlrs vs 1 50 dlrs net 78 2 mln vs 25 9 mln avg shrs 14 5 mln vs 15 1 mln note earnings per share reflect the two for one split effective january 6 1987 per share amounts are calculated after preferred stock dividends loss continuing operations for the qtr 1986 includes gains of sale of investments in <unk> corp of 14 mln dlrs and associated companies of 4 189 000 less writedowns of investments in national <unk> inc of 11 8 mln and <unk> corp of 15 6 mln reuter 3',\n",
              " \"<sos> the farmers home administration the u s agriculture department's farm lending arm could lose about seven billion dlrs in outstanding principal on its severely <unk> borrowers or about one fourth of its farm loan portfolio the general accounting office gao said in remarks prepared for delivery to the senate agriculture committee brian <unk> senior associate director of gao also said that a preliminary analysis of proposed changes in <unk> financial <unk> standards indicated as many as one half of <unk> borrowers who received new loans from the agency in 1986 would be <unk> under the proposed system the agency has proposed <unk> <unk> credit using a variety of financial <unk> instead of <unk> <unk> on <unk> ability senate agriculture committee chairman <unk> <unk> d <unk> <unk> the proposed <unk> changes telling <unk> administrator <unk> clark at a hearing that they would mark a dramatic shift in the <unk> purpose away from being <unk> <unk> of last <unk> toward becoming a big city bank but clark <unk> the new regulations saying the agency had a responsibility to <unk> its 70 billion dlr loan portfolio in a <unk> yet <unk> manner <unk> of gao <unk> <unk> arm said the proposed credit <unk> system attempted to ensure that <unk> would make loans only to borrowers who had a reasonable change of <unk> their debt reuter 3\",\n",
              " '<sos> <unk> co said its board has received a proposal from chairman and chief executive officer philip d <unk> to acquire <unk> for 15 75 dlrs per share in cash <unk> said the acquisition bid is subject to <unk> arranging the necessary financing it said he intends to ask other members of senior management to participate the company said <unk> owns 30 pct of <unk> stock and other management members another 7 5 pct <unk> said it has formed an independent board committee to consider the offer and has deferred the annual meeting it had scheduled for march 31 reuter 3']"
            ]
          },
          "metadata": {},
          "execution_count": 20
        }
      ]
    },
    {
      "cell_type": "code",
      "source": [
        "x_test[:5]"
      ],
      "metadata": {
        "colab": {
          "base_uri": "https://localhost:8080/"
        },
        "id": "M79fUNEM9Hsb",
        "outputId": "b524bf0c-59f7-47cc-8593-b7efbd1c4341"
      },
      "execution_count": 21,
      "outputs": [
        {
          "output_type": "execute_result",
          "data": {
            "text/plain": [
              "['<sos> the great atlantic and pacific tea co said its three year 345 mln dlr capital program will be be substantially increased to <unk> growth and expansion plans for <unk> inc and <unk> inc over the next two years a and p said the acquisition of <unk> in august 1986 and <unk> in december helped us achieve better than expected results in the fourth quarter ended february 28 its net income from continuing operations jumped 52 6 pct to 20 7 mln dlrs or 55 cts a share in the latest quarter as sales increased 48 3 pct to 1 58 billion dlrs a and p gave no details on the expanded capital program but it did say it completed the first year of the program during 1986 a and p is 52 4 pct owned by lt <unk> <unk> of west germany reuter 3',\n",
              " \"<sos> philippine sugar production in the 1987 88 crop year ending august has been set at 1 6 mln tonnes up from a provisional 1 3 mln tonnes this year sugar regulatory administration <unk> chairman <unk> <unk> said <unk> told reuters a survey during the current milling season which ends next month showed the 1986 87 estimate would almost certainly be met he said at least 1 2 mln tonnes of the 1987 88 crop would be <unk> for domestic consumption <unk> said about 130 000 tonnes would be set aside for the u s sugar quota 150 000 tonnes for strategic reserves and 50 000 tonnes would be sold on the world market he said if the government approved a long standing <unk> recommendation to manufacture <unk> the project would take up another 150 000 tonnes slightly raising the target the government for its own reasons has been <unk> approval of the project but we expect it to come through by july <unk> said <unk> could make up five pct of gasoline cutting the oil import bill by about 300 mln pesos <unk> said three major philippine <unk> were ready to start manufacturing <unk> if the project was approved the <unk> project would result in employment for about 100 000 people sharply reducing those <unk> out of work by depressed world sugar prices and a <unk> domestic industry production quotas set for the first time in 1987 88 had been submitted to president <unk> <unk> i think the president would rather wait <unk> the new congress <unk> after the may elections he said but there is really no need for such quotas we are right now producing just slightly over our own consumption level the producers have never <unk> such high prices <unk> said adding sugar was currently selling <unk> for 320 pesos per <unk> up from 190 pesos last august <unk> said prices were <unk> up because of speculation following the <unk> bid to control production we are no longer concerned so much with the world market he said adding producers in the <unk> region had <unk> from their <unk> and diversified into corn and <unk> <unk> and <unk> production he said <unk> into products other than <unk> was also possible within the sugar industry the <unk> long ago <unk> their <unk> <unk> said they have 300 sugar mills compared with our 41 but they <unk> many of them and diversified production we want to call this a <unk> <unk> instead of the sugar industry he said <unk> could be fed to <unk> and livestock used for <unk> <unk> or used in room <unk> when you cut <unk> you don't even have to produce sugar he said <unk> said the philippines was <unk> for a renewal of the international sugar agreement which expired in 1984 as a major sugar producer we are urging them to write a new agreement which would <unk> world prices <unk> said if there is no agreement world prices will always be depressed particularly because the european community is <unk> its producers and dumping sugar on the markets he said current world prices holding steady at about 7 60 cents per pound were <unk> for the philippines where production costs ranged from 12 to 14 cents a pound if the price holds steady for a while at 7 60 cents i expect the level to rise to about 11 cents a pound by the end of this year he said <unk> said economists forecast a bullish sugar market by 1990 with world consumption <unk> production he said sugar markets were holding up despite <unk> from <unk> <unk> and high <unk> corn <unk> but we are not happy with the reagan administration he said since <unk> we have been regular suppliers of sugar to the u s in 1982 when they restored the quota system they cut <unk> in half without any <unk> <unk> was <unk> <unk> washington's moves to cut domestic support prices to 12 cents a pound from 18 cents the u s agriculture department last december <unk> its 12 month 1987 sugar import quota from the philippines to 143 780 short tons from 231 660 short tons in 1986 <unk> said despite next year's increased production target some philippine mills were expected to shut down at least four of the 41 mills were not working during the 1986 87 season he said we expect two or three more to follow suit during the next season reuter 3\",\n",
              " \"<sos> the agriculture department's widening of louisiana gulf differentials will affect county posted prices for number two <unk> corn in ten states a usda official said all <unk> in iowa will be affected as will <unk> which use the gulf to price corn in illinois indiana <unk> <unk> missouri mississippi <unk> <unk> and louisiana said <unk> <unk> deputy director of commodity operations division for the usda usda last night <unk> the grain industry that effective immediately all gulf differentials used to price interior corn would be widened on a <unk> scale basis of four to eight cts depending on what the differential is usda's action was taken to lower <unk> high posted county prices for corn caused by high gulf prices we've been following this louisiana gulf situation for a month and we don't think it's going to get back in line in any nearby time <unk> said <unk> said usda will probably narrow back the gulf differentials when and if gulf prices <unk> if we're off the mark now because we're too high <unk> we be as much off the mark if we're too low he said while forecasting more adjustments if gulf prices fall <unk> said no other changes in usda's price system are being planned right now we don't <unk> we don't make changes <unk> and we don't make changes often he said reuter 3\",\n",
              " '<sos> <unk> <unk> oil and gas partnership said it completed the sale of interests in two major oil and gas fields to lt energy assets international corp for 21 mln dlrs the company said it sold about one half of its 50 pct interest in the <unk> hill and north <unk> fields its two largest producing properties it said it used about 20 mln dlrs of the proceeds to <unk> principal on its senior secured notes semi annual principal payments on the remaining 40 mln dlrs of notes have been satisfied until december 1988 as a result it said the company said the note agreements were amended to reflect an easing of some financial <unk> and an increase of interest to 13 5 pct from 13 0 pct until december 1990 it said the <unk> exercise price for 1 125 000 warrants was also reduced to 50 cts from 1 50 dlrs the company said energy assets agreed to share the costs of increasing production at the <unk> hill field reuter 3',\n",
              " '<sos> strong south <unk> winds were keeping many vessels <unk> in the ice off the <unk> and swedish <unk> in one of the worst <unk> periods in the baltic for many years the <unk> board of navigation said in <unk> and sweden up to 50 vessels were reported to be <unk> in the ice and even the largest of the <unk> <unk> were having difficulties in breaking through to the <unk> ships <unk> officials said however <unk> conditions in the southern baltic at the soviet oil ports of <unk> and <unk> had eased they said weather officials in <unk> sweden said the <unk> conditions in the baltic were the worst for 30 years with ships fighting a losing battle to keep moving in the coastal <unk> of the gulf of <unk> which <unk> <unk> and sweden the ice is up to one <unk> <unk> with <unk> and <unk> <unk> it into almost <unk> <unk> three metres high swedish <unk> officials said weather forecasts say winds may ease during the weekend but a further drop in <unk> could bring shipping to a standstill the officials said reuter 3']"
            ]
          },
          "metadata": {},
          "execution_count": 21
        }
      ]
    },
    {
      "cell_type": "markdown",
      "source": [
        "벡터화 하기"
      ],
      "metadata": {
        "id": "QTggmBJa9KRj"
      }
    },
    {
      "cell_type": "code",
      "source": [
        "from sklearn.feature_extraction.text import CountVectorizer\n",
        "from sklearn.feature_extraction.text import TfidfTransformer"
      ],
      "metadata": {
        "id": "9Zz8PqRy9LTv"
      },
      "execution_count": 22,
      "outputs": []
    },
    {
      "cell_type": "code",
      "source": [
        "dtmvector = CountVectorizer() \n",
        "x_train_dtm = dtmvector.fit_transform(x_train)\n",
        "print(x_train_dtm.shape)"
      ],
      "metadata": {
        "colab": {
          "base_uri": "https://localhost:8080/"
        },
        "id": "Q_fo_zCL9hz0",
        "outputId": "ba5a44b0-db2a-4748-dbab-bc3cfd444b72"
      },
      "execution_count": 23,
      "outputs": [
        {
          "output_type": "stream",
          "name": "stdout",
          "text": [
            "(8982, 4867)\n"
          ]
        }
      ]
    },
    {
      "cell_type": "code",
      "source": [
        "tfidf_transformer = TfidfTransformer()\n",
        "tfidfv = tfidf_transformer.fit_transform(x_train_dtm)\n",
        "print(tfidfv.shape)"
      ],
      "metadata": {
        "colab": {
          "base_uri": "https://localhost:8080/"
        },
        "id": "3spFaawy9pMj",
        "outputId": "42db0e8b-aa98-45f0-b2f1-531b6eb50a7b"
      },
      "execution_count": 24,
      "outputs": [
        {
          "output_type": "stream",
          "name": "stdout",
          "text": [
            "(8982, 4867)\n"
          ]
        }
      ]
    },
    {
      "cell_type": "markdown",
      "source": [
        "    사용할 모델\n",
        "\n",
        "    나이브 베이즈 분류기, CNB, 로지스틱 회귀, 서포트 벡터 머신, 결정 트리, 랜덤 포레스트, 그래디언트 부스팅 트리, 보팅 "
      ],
      "metadata": {
        "id": "LBRcWkYd96xg"
      }
    },
    {
      "cell_type": "code",
      "source": [
        "from sklearn.naive_bayes import MultinomialNB #다항분포 나이브 베이즈 모델\n",
        "from sklearn.linear_model import LogisticRegression, SGDClassifier\n",
        "from sklearn.naive_bayes import ComplementNB\n",
        "from sklearn.tree import DecisionTreeClassifier\n",
        "from sklearn.ensemble import RandomForestClassifier\n",
        "from sklearn.ensemble import GradientBoostingClassifier\n",
        "from sklearn.ensemble import VotingClassifier\n",
        "from sklearn.svm import LinearSVC\n",
        "from sklearn.metrics import accuracy_score #정확도 계산"
      ],
      "metadata": {
        "id": "-6RuvCQN98d5"
      },
      "execution_count": 25,
      "outputs": []
    },
    {
      "cell_type": "code",
      "source": [
        "from sklearn.metrics import classification_report\n",
        "from sklearn.metrics import confusion_matrix\n",
        "\n",
        "print('=3')"
      ],
      "metadata": {
        "colab": {
          "base_uri": "https://localhost:8080/"
        },
        "id": "o8fwsj57yhBZ",
        "outputId": "dfb47df6-ee95-4ed7-d44c-45261e2b0bb4"
      },
      "execution_count": 26,
      "outputs": [
        {
          "output_type": "stream",
          "name": "stdout",
          "text": [
            "=3\n"
          ]
        }
      ]
    },
    {
      "cell_type": "markdown",
      "source": [
        " 나이브 베이즈 분류기"
      ],
      "metadata": {
        "id": "eGjGBpDT-TLY"
      }
    },
    {
      "cell_type": "code",
      "source": [
        "model = MultinomialNB()\n",
        "model.fit(tfidfv, y_train)"
      ],
      "metadata": {
        "colab": {
          "base_uri": "https://localhost:8080/"
        },
        "id": "swgMTSEJ-TsT",
        "outputId": "3578c8d3-5593-450e-9494-93191fbbf12a"
      },
      "execution_count": 27,
      "outputs": [
        {
          "output_type": "execute_result",
          "data": {
            "text/plain": [
              "MultinomialNB()"
            ]
          },
          "metadata": {},
          "execution_count": 27
        }
      ]
    },
    {
      "cell_type": "code",
      "source": [
        "x_test_dtm = dtmvector.transform(x_test) #테스트 데이터를 DTM으로 변환\n",
        "tfidfv_test = tfidf_transformer.transform(x_test_dtm) #DTM을 TF-IDF 행렬로 변환\n",
        "\n",
        "predicted = model.predict(tfidfv_test) #테스트 데이터에 대한 예측\n",
        "print(\"정확도:\", accuracy_score(y_test, predicted)) #예측값과 실제값 비교"
      ],
      "metadata": {
        "colab": {
          "base_uri": "https://localhost:8080/"
        },
        "id": "H6haBJut-XjX",
        "outputId": "c674d40a-330a-4ec4-acb3-cbc2d2146c57"
      },
      "execution_count": 28,
      "outputs": [
        {
          "output_type": "stream",
          "name": "stdout",
          "text": [
            "정확도: 0.6731967943009796\n"
          ]
        }
      ]
    },
    {
      "cell_type": "code",
      "source": [
        "print(classification_report(y_test, model.predict(tfidfv_test), zero_division=0))\n"
      ],
      "metadata": {
        "colab": {
          "base_uri": "https://localhost:8080/"
        },
        "id": "0zIyKySjBqXX",
        "outputId": "9f20fb9e-5da6-4d5a-c02d-f653a2aa8ac0"
      },
      "execution_count": 29,
      "outputs": [
        {
          "output_type": "stream",
          "name": "stdout",
          "text": [
            "              precision    recall  f1-score   support\n",
            "\n",
            "           0       0.00      0.00      0.00        12\n",
            "           1       0.50      0.80      0.62       105\n",
            "           2       0.00      0.00      0.00        20\n",
            "           3       0.86      0.89      0.87       813\n",
            "           4       0.59      0.95      0.73       474\n",
            "           5       0.00      0.00      0.00         5\n",
            "           6       0.00      0.00      0.00        14\n",
            "           7       0.00      0.00      0.00         3\n",
            "           8       0.00      0.00      0.00        38\n",
            "           9       1.00      0.28      0.44        25\n",
            "          10       0.00      0.00      0.00        30\n",
            "          11       0.48      0.73      0.58        83\n",
            "          12       0.00      0.00      0.00        13\n",
            "          13       1.00      0.14      0.24        37\n",
            "          14       0.00      0.00      0.00         2\n",
            "          15       0.00      0.00      0.00         9\n",
            "          16       0.60      0.66      0.62        99\n",
            "          17       0.00      0.00      0.00        12\n",
            "          18       0.00      0.00      0.00        20\n",
            "          19       0.51      0.81      0.63       133\n",
            "          20       0.90      0.13      0.23        70\n",
            "          21       0.00      0.00      0.00        27\n",
            "          22       0.00      0.00      0.00         7\n",
            "          23       0.00      0.00      0.00        12\n",
            "          24       0.00      0.00      0.00        19\n",
            "          25       1.00      0.06      0.12        31\n",
            "          26       0.00      0.00      0.00         8\n",
            "          27       0.00      0.00      0.00         4\n",
            "          28       0.00      0.00      0.00        10\n",
            "          29       0.00      0.00      0.00         4\n",
            "          30       0.00      0.00      0.00        12\n",
            "          31       0.00      0.00      0.00        13\n",
            "          32       0.00      0.00      0.00        10\n",
            "          33       0.00      0.00      0.00         5\n",
            "          34       0.00      0.00      0.00         7\n",
            "          35       0.00      0.00      0.00         6\n",
            "          36       0.00      0.00      0.00        11\n",
            "          37       0.00      0.00      0.00         2\n",
            "          38       0.00      0.00      0.00         3\n",
            "          39       0.00      0.00      0.00         5\n",
            "          40       0.00      0.00      0.00        10\n",
            "          41       0.00      0.00      0.00         8\n",
            "          42       0.00      0.00      0.00         3\n",
            "          43       0.00      0.00      0.00         6\n",
            "          44       0.00      0.00      0.00         5\n",
            "          45       0.00      0.00      0.00         1\n",
            "\n",
            "    accuracy                           0.67      2246\n",
            "   macro avg       0.16      0.12      0.11      2246\n",
            "weighted avg       0.60      0.67      0.60      2246\n",
            "\n"
          ]
        }
      ]
    },
    {
      "cell_type": "markdown",
      "source": [
        "컴플리먼트 나이브 베이즈 분류기(CNB)"
      ],
      "metadata": {
        "id": "QUtgmGizCUwG"
      }
    },
    {
      "cell_type": "code",
      "source": [
        "cb = ComplementNB()\n",
        "cb.fit(tfidfv, y_train)"
      ],
      "metadata": {
        "colab": {
          "base_uri": "https://localhost:8080/"
        },
        "id": "ojGbvZRHCUYO",
        "outputId": "a38e55a9-55dc-4a22-e676-923903e5427a"
      },
      "execution_count": 30,
      "outputs": [
        {
          "output_type": "execute_result",
          "data": {
            "text/plain": [
              "ComplementNB()"
            ]
          },
          "metadata": {},
          "execution_count": 30
        }
      ]
    },
    {
      "cell_type": "code",
      "source": [
        "predicted = cb.predict(tfidfv_test) #테스트 데이터에 대한 예측\n",
        "print(\"정확도:\", accuracy_score(y_test, predicted)) #예측값과 실제값 비교"
      ],
      "metadata": {
        "colab": {
          "base_uri": "https://localhost:8080/"
        },
        "id": "zUjeKFLnCZoU",
        "outputId": "a32a7805-3d81-4805-d50b-4e57bb2e8ce6"
      },
      "execution_count": 31,
      "outputs": [
        {
          "output_type": "stream",
          "name": "stdout",
          "text": [
            "정확도: 0.7707034728406055\n"
          ]
        }
      ]
    },
    {
      "cell_type": "code",
      "source": [
        "print(classification_report(y_test, cb.predict(tfidfv_test), zero_division=0))"
      ],
      "metadata": {
        "colab": {
          "base_uri": "https://localhost:8080/"
        },
        "id": "d7tXTBgrCcA-",
        "outputId": "67824443-9c05-46d0-b56d-e29c1c0ca2da"
      },
      "execution_count": 32,
      "outputs": [
        {
          "output_type": "stream",
          "name": "stdout",
          "text": [
            "              precision    recall  f1-score   support\n",
            "\n",
            "           0       0.88      0.58      0.70        12\n",
            "           1       0.63      0.86      0.73       105\n",
            "           2       0.91      0.50      0.65        20\n",
            "           3       0.91      0.89      0.90       813\n",
            "           4       0.74      0.92      0.82       474\n",
            "           5       0.00      0.00      0.00         5\n",
            "           6       0.86      0.86      0.86        14\n",
            "           7       1.00      0.67      0.80         3\n",
            "           8       0.57      0.21      0.31        38\n",
            "           9       0.82      0.92      0.87        25\n",
            "          10       0.96      0.80      0.87        30\n",
            "          11       0.54      0.76      0.63        83\n",
            "          12       0.00      0.00      0.00        13\n",
            "          13       0.69      0.59      0.64        37\n",
            "          14       0.00      0.00      0.00         2\n",
            "          15       0.00      0.00      0.00         9\n",
            "          16       0.67      0.79      0.72        99\n",
            "          17       0.00      0.00      0.00        12\n",
            "          18       0.55      0.60      0.57        20\n",
            "          19       0.56      0.80      0.66       133\n",
            "          20       0.79      0.33      0.46        70\n",
            "          21       0.78      0.67      0.72        27\n",
            "          22       0.00      0.00      0.00         7\n",
            "          23       0.67      0.33      0.44        12\n",
            "          24       0.67      0.11      0.18        19\n",
            "          25       0.86      0.77      0.81        31\n",
            "          26       0.88      0.88      0.88         8\n",
            "          27       1.00      0.25      0.40         4\n",
            "          28       0.33      0.20      0.25        10\n",
            "          29       0.00      0.00      0.00         4\n",
            "          30       0.00      0.00      0.00        12\n",
            "          31       1.00      0.15      0.27        13\n",
            "          32       1.00      0.70      0.82        10\n",
            "          33       1.00      0.80      0.89         5\n",
            "          34       1.00      0.71      0.83         7\n",
            "          35       1.00      0.17      0.29         6\n",
            "          36       0.00      0.00      0.00        11\n",
            "          37       1.00      0.50      0.67         2\n",
            "          38       1.00      0.33      0.50         3\n",
            "          39       0.00      0.00      0.00         5\n",
            "          40       0.00      0.00      0.00        10\n",
            "          41       0.67      0.25      0.36         8\n",
            "          42       1.00      0.33      0.50         3\n",
            "          43       1.00      0.17      0.29         6\n",
            "          44       1.00      0.80      0.89         5\n",
            "          45       1.00      1.00      1.00         1\n",
            "\n",
            "    accuracy                           0.77      2246\n",
            "   macro avg       0.63      0.44      0.48      2246\n",
            "weighted avg       0.76      0.77      0.75      2246\n",
            "\n"
          ]
        }
      ]
    },
    {
      "cell_type": "markdown",
      "source": [
        "로지스틱 회귀"
      ],
      "metadata": {
        "id": "cdCFdgUfCxra"
      }
    },
    {
      "cell_type": "code",
      "source": [
        "lr = LogisticRegression(C=10000, penalty='l2')\n",
        "lr.fit(tfidfv, y_train)"
      ],
      "metadata": {
        "colab": {
          "base_uri": "https://localhost:8080/"
        },
        "id": "gjOEy-88CwfA",
        "outputId": "d97cf2fe-0603-42cb-bace-c8a078af6ac8"
      },
      "execution_count": 33,
      "outputs": [
        {
          "output_type": "stream",
          "name": "stderr",
          "text": [
            "/usr/local/lib/python3.7/dist-packages/sklearn/linear_model/_logistic.py:818: ConvergenceWarning: lbfgs failed to converge (status=1):\n",
            "STOP: TOTAL NO. of ITERATIONS REACHED LIMIT.\n",
            "\n",
            "Increase the number of iterations (max_iter) or scale the data as shown in:\n",
            "    https://scikit-learn.org/stable/modules/preprocessing.html\n",
            "Please also refer to the documentation for alternative solver options:\n",
            "    https://scikit-learn.org/stable/modules/linear_model.html#logistic-regression\n",
            "  extra_warning_msg=_LOGISTIC_SOLVER_CONVERGENCE_MSG,\n"
          ]
        },
        {
          "output_type": "execute_result",
          "data": {
            "text/plain": [
              "LogisticRegression(C=10000)"
            ]
          },
          "metadata": {},
          "execution_count": 33
        }
      ]
    },
    {
      "cell_type": "code",
      "source": [
        "predicted = lr.predict(tfidfv_test) #테스트 데이터에 대한 예측\n",
        "print(\"정확도:\", accuracy_score(y_test, predicted)) #예측값과 실제값 비교"
      ],
      "metadata": {
        "colab": {
          "base_uri": "https://localhost:8080/"
        },
        "id": "TNNw73WHDBT_",
        "outputId": "fb294da6-9ab0-4912-c17a-29385a45cf78"
      },
      "execution_count": 34,
      "outputs": [
        {
          "output_type": "stream",
          "name": "stdout",
          "text": [
            "정확도: 0.8058771148708815\n"
          ]
        }
      ]
    },
    {
      "cell_type": "code",
      "source": [
        "print(classification_report(y_test, lr.predict(tfidfv_test), zero_division=0))"
      ],
      "metadata": {
        "colab": {
          "base_uri": "https://localhost:8080/"
        },
        "id": "_buKTAu9DKRF",
        "outputId": "d0673d93-8fdb-4165-ecf0-88db7b47656f"
      },
      "execution_count": 35,
      "outputs": [
        {
          "output_type": "stream",
          "name": "stdout",
          "text": [
            "              precision    recall  f1-score   support\n",
            "\n",
            "           0       0.89      0.67      0.76        12\n",
            "           1       0.77      0.80      0.79       105\n",
            "           2       0.74      0.85      0.79        20\n",
            "           3       0.91      0.93      0.92       813\n",
            "           4       0.81      0.87      0.84       474\n",
            "           5       0.00      0.00      0.00         5\n",
            "           6       0.92      0.86      0.89        14\n",
            "           7       1.00      0.67      0.80         3\n",
            "           8       0.64      0.74      0.68        38\n",
            "           9       0.81      0.88      0.85        25\n",
            "          10       0.93      0.87      0.90        30\n",
            "          11       0.64      0.73      0.68        83\n",
            "          12       0.57      0.31      0.40        13\n",
            "          13       0.64      0.62      0.63        37\n",
            "          14       0.50      0.50      0.50         2\n",
            "          15       0.83      0.56      0.67         9\n",
            "          16       0.67      0.73      0.70        99\n",
            "          17       0.82      0.75      0.78        12\n",
            "          18       0.80      0.60      0.69        20\n",
            "          19       0.66      0.68      0.67       133\n",
            "          20       0.61      0.47      0.53        70\n",
            "          21       0.62      0.78      0.69        27\n",
            "          22       0.00      0.00      0.00         7\n",
            "          23       0.55      0.50      0.52        12\n",
            "          24       0.69      0.58      0.63        19\n",
            "          25       0.91      0.65      0.75        31\n",
            "          26       1.00      0.88      0.93         8\n",
            "          27       1.00      0.25      0.40         4\n",
            "          28       0.67      0.40      0.50        10\n",
            "          29       0.50      0.75      0.60         4\n",
            "          30       1.00      0.42      0.59        12\n",
            "          31       0.70      0.54      0.61        13\n",
            "          32       1.00      0.80      0.89        10\n",
            "          33       0.80      0.80      0.80         5\n",
            "          34       1.00      0.29      0.44         7\n",
            "          35       1.00      0.33      0.50         6\n",
            "          36       0.38      0.27      0.32        11\n",
            "          37       0.50      0.50      0.50         2\n",
            "          38       0.50      0.33      0.40         3\n",
            "          39       0.40      0.40      0.40         5\n",
            "          40       0.75      0.30      0.43        10\n",
            "          41       0.83      0.62      0.71         8\n",
            "          42       1.00      0.67      0.80         3\n",
            "          43       0.67      1.00      0.80         6\n",
            "          44       1.00      0.80      0.89         5\n",
            "          45       1.00      1.00      1.00         1\n",
            "\n",
            "    accuracy                           0.81      2246\n",
            "   macro avg       0.73      0.61      0.64      2246\n",
            "weighted avg       0.80      0.81      0.80      2246\n",
            "\n"
          ]
        }
      ]
    },
    {
      "cell_type": "markdown",
      "source": [
        "서포트 벡터 머신"
      ],
      "metadata": {
        "id": "OEGwGtRyDcD5"
      }
    },
    {
      "cell_type": "code",
      "source": [
        "lsvc = LinearSVC(C=1000, penalty='l1', max_iter=500, dual=False)\n",
        "lsvc.fit(tfidfv, y_train)"
      ],
      "metadata": {
        "colab": {
          "base_uri": "https://localhost:8080/"
        },
        "id": "uvxyP-JqDcdC",
        "outputId": "eeb14944-cfc1-4cf1-baed-f115fbc7f903"
      },
      "execution_count": 36,
      "outputs": [
        {
          "output_type": "stream",
          "name": "stderr",
          "text": [
            "/usr/local/lib/python3.7/dist-packages/sklearn/svm/_base.py:1208: ConvergenceWarning: Liblinear failed to converge, increase the number of iterations.\n",
            "  ConvergenceWarning,\n"
          ]
        },
        {
          "output_type": "execute_result",
          "data": {
            "text/plain": [
              "LinearSVC(C=1000, dual=False, max_iter=500, penalty='l1')"
            ]
          },
          "metadata": {},
          "execution_count": 36
        }
      ]
    },
    {
      "cell_type": "code",
      "source": [
        "predicted = lsvc.predict(tfidfv_test) #테스트 데이터에 대한 예측\n",
        "print(\"정확도:\", accuracy_score(y_test, predicted)) #예측값과 실제값 비교"
      ],
      "metadata": {
        "colab": {
          "base_uri": "https://localhost:8080/"
        },
        "id": "4LN9l6iQDhl_",
        "outputId": "ff39fc6e-5dd2-4923-faa6-e6a00e2e245f"
      },
      "execution_count": 37,
      "outputs": [
        {
          "output_type": "stream",
          "name": "stdout",
          "text": [
            "정확도: 0.7702582368655387\n"
          ]
        }
      ]
    },
    {
      "cell_type": "code",
      "source": [
        "print(classification_report(y_test, lsvc.predict(tfidfv_test), zero_division=0))"
      ],
      "metadata": {
        "colab": {
          "base_uri": "https://localhost:8080/"
        },
        "id": "KqGRk77ZE1q2",
        "outputId": "765ccca6-8232-4147-e19e-da3ab1dc0c79"
      },
      "execution_count": 38,
      "outputs": [
        {
          "output_type": "stream",
          "name": "stdout",
          "text": [
            "              precision    recall  f1-score   support\n",
            "\n",
            "           0       0.89      0.67      0.76        12\n",
            "           1       0.70      0.72      0.71       105\n",
            "           2       0.79      0.75      0.77        20\n",
            "           3       0.90      0.90      0.90       813\n",
            "           4       0.79      0.85      0.82       474\n",
            "           5       0.00      0.00      0.00         5\n",
            "           6       0.76      0.93      0.84        14\n",
            "           7       1.00      0.33      0.50         3\n",
            "           8       0.68      0.66      0.67        38\n",
            "           9       0.80      0.80      0.80        25\n",
            "          10       0.76      0.73      0.75        30\n",
            "          11       0.61      0.71      0.66        83\n",
            "          12       0.36      0.31      0.33        13\n",
            "          13       0.51      0.57      0.54        37\n",
            "          14       1.00      0.50      0.67         2\n",
            "          15       0.50      0.22      0.31         9\n",
            "          16       0.65      0.69      0.67        99\n",
            "          17       0.60      0.25      0.35        12\n",
            "          18       0.85      0.55      0.67        20\n",
            "          19       0.63      0.68      0.65       133\n",
            "          20       0.54      0.50      0.52        70\n",
            "          21       0.56      0.70      0.62        27\n",
            "          22       1.00      0.14      0.25         7\n",
            "          23       0.40      0.50      0.44        12\n",
            "          24       0.64      0.47      0.55        19\n",
            "          25       0.83      0.61      0.70        31\n",
            "          26       1.00      0.75      0.86         8\n",
            "          27       0.67      0.50      0.57         4\n",
            "          28       0.20      0.20      0.20        10\n",
            "          29       0.50      0.75      0.60         4\n",
            "          30       0.75      0.25      0.38        12\n",
            "          31       0.82      0.69      0.75        13\n",
            "          32       0.88      0.70      0.78        10\n",
            "          33       0.67      0.80      0.73         5\n",
            "          34       0.50      0.57      0.53         7\n",
            "          35       1.00      0.33      0.50         6\n",
            "          36       0.62      0.45      0.53        11\n",
            "          37       0.50      1.00      0.67         2\n",
            "          38       1.00      0.33      0.50         3\n",
            "          39       0.50      0.20      0.29         5\n",
            "          40       0.50      0.20      0.29        10\n",
            "          41       0.67      0.50      0.57         8\n",
            "          42       1.00      0.33      0.50         3\n",
            "          43       0.86      1.00      0.92         6\n",
            "          44       1.00      0.80      0.89         5\n",
            "          45       0.50      1.00      0.67         1\n",
            "\n",
            "    accuracy                           0.77      2246\n",
            "   macro avg       0.69      0.57      0.59      2246\n",
            "weighted avg       0.77      0.77      0.77      2246\n",
            "\n"
          ]
        }
      ]
    },
    {
      "cell_type": "markdown",
      "source": [
        "결정 트리(Decision Tree)"
      ],
      "metadata": {
        "id": "A6oSxXufF-hx"
      }
    },
    {
      "cell_type": "code",
      "source": [
        "tree = DecisionTreeClassifier(max_depth=10, random_state=0)\n",
        "tree.fit(tfidfv, y_train)"
      ],
      "metadata": {
        "colab": {
          "base_uri": "https://localhost:8080/"
        },
        "id": "1u9ACg8aF-Hh",
        "outputId": "0079fc70-3ad3-4677-fc19-a8a5cf727daa"
      },
      "execution_count": 39,
      "outputs": [
        {
          "output_type": "execute_result",
          "data": {
            "text/plain": [
              "DecisionTreeClassifier(max_depth=10, random_state=0)"
            ]
          },
          "metadata": {},
          "execution_count": 39
        }
      ]
    },
    {
      "cell_type": "code",
      "source": [
        "predicted = tree.predict(tfidfv_test) #테스트 데이터에 대한 예측\n",
        "print(\"정확도:\", accuracy_score(y_test, predicted)) #예측값과 실제값 비교"
      ],
      "metadata": {
        "colab": {
          "base_uri": "https://localhost:8080/"
        },
        "id": "4s345QUOGG64",
        "outputId": "7c9337d7-63e5-4b27-9c0b-c983c9328dfc"
      },
      "execution_count": 40,
      "outputs": [
        {
          "output_type": "stream",
          "name": "stdout",
          "text": [
            "정확도: 0.6179875333926982\n"
          ]
        }
      ]
    },
    {
      "cell_type": "code",
      "source": [
        "print(classification_report(y_test, tree.predict(tfidfv_test), zero_division=0))"
      ],
      "metadata": {
        "colab": {
          "base_uri": "https://localhost:8080/"
        },
        "id": "aVw06z78HBQU",
        "outputId": "b7198e82-42d2-4dfd-8596-393eab90445d"
      },
      "execution_count": 41,
      "outputs": [
        {
          "output_type": "stream",
          "name": "stdout",
          "text": [
            "              precision    recall  f1-score   support\n",
            "\n",
            "           0       0.00      0.00      0.00        12\n",
            "           1       0.72      0.40      0.52       105\n",
            "           2       0.60      0.45      0.51        20\n",
            "           3       0.94      0.84      0.89       813\n",
            "           4       0.39      0.91      0.55       474\n",
            "           5       0.00      0.00      0.00         5\n",
            "           6       1.00      0.57      0.73        14\n",
            "           7       0.00      0.00      0.00         3\n",
            "           8       0.00      0.00      0.00        38\n",
            "           9       0.88      0.88      0.88        25\n",
            "          10       0.87      0.87      0.87        30\n",
            "          11       0.62      0.48      0.54        83\n",
            "          12       0.17      0.08      0.11        13\n",
            "          13       0.00      0.00      0.00        37\n",
            "          14       0.00      0.00      0.00         2\n",
            "          15       0.00      0.00      0.00         9\n",
            "          16       0.60      0.82      0.69        99\n",
            "          17       0.00      0.00      0.00        12\n",
            "          18       0.00      0.00      0.00        20\n",
            "          19       0.62      0.26      0.37       133\n",
            "          20       0.33      0.03      0.05        70\n",
            "          21       0.00      0.00      0.00        27\n",
            "          22       0.00      0.00      0.00         7\n",
            "          23       0.00      0.00      0.00        12\n",
            "          24       1.00      0.05      0.10        19\n",
            "          25       0.86      0.19      0.32        31\n",
            "          26       0.00      0.00      0.00         8\n",
            "          27       0.00      0.00      0.00         4\n",
            "          28       0.50      0.10      0.17        10\n",
            "          29       0.00      0.00      0.00         4\n",
            "          30       0.00      0.00      0.00        12\n",
            "          31       0.00      0.00      0.00        13\n",
            "          32       0.00      0.00      0.00        10\n",
            "          33       0.83      1.00      0.91         5\n",
            "          34       0.00      0.00      0.00         7\n",
            "          35       0.00      0.00      0.00         6\n",
            "          36       0.00      0.00      0.00        11\n",
            "          37       0.00      0.00      0.00         2\n",
            "          38       0.00      0.00      0.00         3\n",
            "          39       0.00      0.00      0.00         5\n",
            "          40       0.00      0.00      0.00        10\n",
            "          41       0.00      0.00      0.00         8\n",
            "          42       0.00      0.00      0.00         3\n",
            "          43       0.00      0.00      0.00         6\n",
            "          44       0.00      0.00      0.00         5\n",
            "          45       0.00      0.00      0.00         1\n",
            "\n",
            "    accuracy                           0.62      2246\n",
            "   macro avg       0.24      0.17      0.18      2246\n",
            "weighted avg       0.61      0.62      0.57      2246\n",
            "\n"
          ]
        }
      ]
    },
    {
      "cell_type": "markdown",
      "source": [
        "랜덤 포레스트(Random Forest)"
      ],
      "metadata": {
        "id": "6c2cAenTGOU6"
      }
    },
    {
      "cell_type": "code",
      "source": [
        "forest = RandomForestClassifier(n_estimators=5, random_state=0)\n",
        "forest.fit(tfidfv, y_train)"
      ],
      "metadata": {
        "colab": {
          "base_uri": "https://localhost:8080/"
        },
        "id": "etTOJ417GNzX",
        "outputId": "bc03aee0-afdf-41eb-cc62-39bac7804ea4"
      },
      "execution_count": 42,
      "outputs": [
        {
          "output_type": "execute_result",
          "data": {
            "text/plain": [
              "RandomForestClassifier(n_estimators=5, random_state=0)"
            ]
          },
          "metadata": {},
          "execution_count": 42
        }
      ]
    },
    {
      "cell_type": "code",
      "source": [
        "predicted = forest.predict(tfidfv_test) #테스트 데이터에 대한 예측\n",
        "print(\"정확도:\", accuracy_score(y_test, predicted)) #예측값과 실제값 비교"
      ],
      "metadata": {
        "colab": {
          "base_uri": "https://localhost:8080/"
        },
        "id": "sVcRc1bHGS3M",
        "outputId": "5feb7133-bdab-4fd0-deaf-b1a8de37f084"
      },
      "execution_count": 43,
      "outputs": [
        {
          "output_type": "stream",
          "name": "stdout",
          "text": [
            "정확도: 0.701246660730187\n"
          ]
        }
      ]
    },
    {
      "cell_type": "code",
      "source": [
        "print(classification_report(y_test, forest.predict(tfidfv_test), zero_division=0))\n"
      ],
      "metadata": {
        "colab": {
          "base_uri": "https://localhost:8080/"
        },
        "id": "wfdFTx-9GYVb",
        "outputId": "b0b49845-5781-4e4f-c288-aec4e684af03"
      },
      "execution_count": 44,
      "outputs": [
        {
          "output_type": "stream",
          "name": "stdout",
          "text": [
            "              precision    recall  f1-score   support\n",
            "\n",
            "           0       0.28      0.42      0.33        12\n",
            "           1       0.42      0.78      0.55       105\n",
            "           2       0.44      0.35      0.39        20\n",
            "           3       0.84      0.90      0.87       813\n",
            "           4       0.68      0.84      0.75       474\n",
            "           5       0.00      0.00      0.00         5\n",
            "           6       0.86      0.43      0.57        14\n",
            "           7       1.00      0.33      0.50         3\n",
            "           8       0.59      0.53      0.56        38\n",
            "           9       0.71      0.40      0.51        25\n",
            "          10       0.89      0.53      0.67        30\n",
            "          11       0.57      0.69      0.62        83\n",
            "          12       0.33      0.15      0.21        13\n",
            "          13       0.46      0.32      0.38        37\n",
            "          14       0.00      0.00      0.00         2\n",
            "          15       1.00      0.11      0.20         9\n",
            "          16       0.70      0.67      0.68        99\n",
            "          17       0.00      0.00      0.00        12\n",
            "          18       0.60      0.45      0.51        20\n",
            "          19       0.62      0.64      0.63       133\n",
            "          20       0.46      0.33      0.38        70\n",
            "          21       0.65      0.41      0.50        27\n",
            "          22       0.00      0.00      0.00         7\n",
            "          23       0.75      0.25      0.38        12\n",
            "          24       0.33      0.05      0.09        19\n",
            "          25       0.87      0.42      0.57        31\n",
            "          26       1.00      0.12      0.22         8\n",
            "          27       1.00      0.25      0.40         4\n",
            "          28       0.00      0.00      0.00        10\n",
            "          29       0.33      0.25      0.29         4\n",
            "          30       0.00      0.00      0.00        12\n",
            "          31       0.00      0.00      0.00        13\n",
            "          32       1.00      0.30      0.46        10\n",
            "          33       1.00      0.20      0.33         5\n",
            "          34       0.00      0.00      0.00         7\n",
            "          35       1.00      0.17      0.29         6\n",
            "          36       0.33      0.09      0.14        11\n",
            "          37       1.00      0.50      0.67         2\n",
            "          38       0.00      0.00      0.00         3\n",
            "          39       0.00      0.00      0.00         5\n",
            "          40       1.00      0.20      0.33        10\n",
            "          41       0.25      0.12      0.17         8\n",
            "          42       0.00      0.00      0.00         3\n",
            "          43       1.00      0.33      0.50         6\n",
            "          44       1.00      0.80      0.89         5\n",
            "          45       1.00      1.00      1.00         1\n",
            "\n",
            "    accuracy                           0.70      2246\n",
            "   macro avg       0.54      0.31      0.36      2246\n",
            "weighted avg       0.69      0.70      0.68      2246\n",
            "\n"
          ]
        }
      ]
    },
    {
      "cell_type": "markdown",
      "source": [
        "그래디언트 부스팅 트리(GradientBoostingClassifier)"
      ],
      "metadata": {
        "id": "TVtcZlhMHsy_"
      }
    },
    {
      "cell_type": "code",
      "source": [
        "grbt = GradientBoostingClassifier(random_state=0) # verbose=3\n",
        "grbt.fit(tfidfv, y_train)"
      ],
      "metadata": {
        "colab": {
          "base_uri": "https://localhost:8080/"
        },
        "id": "1SsfE0NCGozm",
        "outputId": "eb71a210-cfc7-49a1-c907-efdc39a01f1a"
      },
      "execution_count": 45,
      "outputs": [
        {
          "output_type": "execute_result",
          "data": {
            "text/plain": [
              "GradientBoostingClassifier(random_state=0)"
            ]
          },
          "metadata": {},
          "execution_count": 45
        }
      ]
    },
    {
      "cell_type": "code",
      "source": [
        "predicted = grbt.predict(tfidfv_test) #테스트 데이터에 대한 예측\n",
        "print(\"정확도:\", accuracy_score(y_test, predicted)) #예측값과 실제값 비교"
      ],
      "metadata": {
        "colab": {
          "base_uri": "https://localhost:8080/"
        },
        "id": "gZctvnEaHw9A",
        "outputId": "58fc6534-2193-43c0-f32f-b20e768e0fc5"
      },
      "execution_count": 46,
      "outputs": [
        {
          "output_type": "stream",
          "name": "stdout",
          "text": [
            "정확도: 0.767586821015138\n"
          ]
        }
      ]
    },
    {
      "cell_type": "code",
      "source": [
        "print(classification_report(y_test, grbt.predict(tfidfv_test), zero_division=0))"
      ],
      "metadata": {
        "colab": {
          "base_uri": "https://localhost:8080/"
        },
        "id": "KL8bbcPHH63R",
        "outputId": "6cab6421-2028-45f6-ecb5-3da5fad40d10"
      },
      "execution_count": 47,
      "outputs": [
        {
          "output_type": "stream",
          "name": "stdout",
          "text": [
            "              precision    recall  f1-score   support\n",
            "\n",
            "           0       0.89      0.67      0.76        12\n",
            "           1       0.80      0.68      0.73       105\n",
            "           2       0.70      0.70      0.70        20\n",
            "           3       0.90      0.90      0.90       813\n",
            "           4       0.76      0.83      0.79       474\n",
            "           5       0.14      0.20      0.17         5\n",
            "           6       0.93      0.93      0.93        14\n",
            "           7       0.50      0.33      0.40         3\n",
            "           8       0.64      0.66      0.65        38\n",
            "           9       0.91      0.84      0.87        25\n",
            "          10       0.87      0.87      0.87        30\n",
            "          11       0.62      0.66      0.64        83\n",
            "          12       0.46      0.46      0.46        13\n",
            "          13       0.55      0.43      0.48        37\n",
            "          14       0.08      0.50      0.14         2\n",
            "          15       0.33      0.22      0.27         9\n",
            "          16       0.72      0.77      0.75        99\n",
            "          17       0.33      0.33      0.33        12\n",
            "          18       0.61      0.55      0.58        20\n",
            "          19       0.71      0.65      0.68       133\n",
            "          20       0.56      0.44      0.50        70\n",
            "          21       0.67      0.67      0.67        27\n",
            "          22       0.50      0.14      0.22         7\n",
            "          23       0.36      0.42      0.38        12\n",
            "          24       0.71      0.63      0.67        19\n",
            "          25       0.91      0.65      0.75        31\n",
            "          26       0.75      0.75      0.75         8\n",
            "          27       0.40      0.50      0.44         4\n",
            "          28       0.38      0.30      0.33        10\n",
            "          29       0.22      0.50      0.31         4\n",
            "          30       0.38      0.42      0.40        12\n",
            "          31       0.60      0.46      0.52        13\n",
            "          32       0.88      0.70      0.78        10\n",
            "          33       0.71      1.00      0.83         5\n",
            "          34       0.50      0.29      0.36         7\n",
            "          35       1.00      0.50      0.67         6\n",
            "          36       0.67      0.55      0.60        11\n",
            "          37       0.67      1.00      0.80         2\n",
            "          38       0.25      0.33      0.29         3\n",
            "          39       0.25      0.20      0.22         5\n",
            "          40       0.71      0.50      0.59        10\n",
            "          41       0.44      0.50      0.47         8\n",
            "          42       0.75      1.00      0.86         3\n",
            "          43       0.50      0.67      0.57         6\n",
            "          44       1.00      0.80      0.89         5\n",
            "          45       0.50      1.00      0.67         1\n",
            "\n",
            "    accuracy                           0.77      2246\n",
            "   macro avg       0.60      0.59      0.58      2246\n",
            "weighted avg       0.77      0.77      0.77      2246\n",
            "\n"
          ]
        }
      ]
    },
    {
      "cell_type": "markdown",
      "source": [
        "보팅 "
      ],
      "metadata": {
        "id": "zCO1iwgJRbot"
      }
    },
    {
      "cell_type": "code",
      "source": [
        "voting_classifier = VotingClassifier(estimators=[\n",
        "         ('lr', LogisticRegression(C=10000, penalty='l2')),\n",
        "        ('cb', ComplementNB()),\n",
        "        ('grbt', GradientBoostingClassifier(random_state=0))\n",
        "], voting='soft', n_jobs=-1)\n",
        "voting_classifier.fit(tfidfv, y_train)\n"
      ],
      "metadata": {
        "colab": {
          "base_uri": "https://localhost:8080/"
        },
        "id": "Zd9OQ9YsReiX",
        "outputId": "f455eb13-f334-4256-e473-7871918619e1"
      },
      "execution_count": 48,
      "outputs": [
        {
          "output_type": "execute_result",
          "data": {
            "text/plain": [
              "VotingClassifier(estimators=[('lr', LogisticRegression(C=10000)),\n",
              "                             ('cb', ComplementNB()),\n",
              "                             ('grbt',\n",
              "                              GradientBoostingClassifier(random_state=0))],\n",
              "                 n_jobs=-1, voting='soft')"
            ]
          },
          "metadata": {},
          "execution_count": 48
        }
      ]
    },
    {
      "cell_type": "code",
      "source": [
        "predicted = voting_classifier.predict(tfidfv_test) #테스트 데이터에 대한 예측\n",
        "print(\"정확도:\", accuracy_score(y_test, predicted)) #예측값과 실제값 비교\n"
      ],
      "metadata": {
        "colab": {
          "base_uri": "https://localhost:8080/"
        },
        "id": "TMZXwTqJRjIS",
        "outputId": "cefaa780-f282-4b24-a3f3-48edf3225e86"
      },
      "execution_count": 49,
      "outputs": [
        {
          "output_type": "stream",
          "name": "stdout",
          "text": [
            "정확도: 0.8161175422974176\n"
          ]
        }
      ]
    },
    {
      "cell_type": "code",
      "source": [
        "print(classification_report(y_test, voting_classifier.predict(tfidfv_test), zero_division=0))"
      ],
      "metadata": {
        "colab": {
          "base_uri": "https://localhost:8080/"
        },
        "id": "H_SzdUKhRv4X",
        "outputId": "1c4e86d4-d6d3-4a2e-beb8-cad4b0db6525"
      },
      "execution_count": 50,
      "outputs": [
        {
          "output_type": "stream",
          "name": "stdout",
          "text": [
            "              precision    recall  f1-score   support\n",
            "\n",
            "           0       0.90      0.75      0.82        12\n",
            "           1       0.80      0.77      0.79       105\n",
            "           2       0.71      0.85      0.77        20\n",
            "           3       0.92      0.94      0.93       813\n",
            "           4       0.82      0.88      0.85       474\n",
            "           5       0.33      0.20      0.25         5\n",
            "           6       0.93      0.93      0.93        14\n",
            "           7       0.67      0.67      0.67         3\n",
            "           8       0.72      0.68      0.70        38\n",
            "           9       0.81      0.84      0.82        25\n",
            "          10       0.93      0.90      0.92        30\n",
            "          11       0.67      0.70      0.68        83\n",
            "          12       0.60      0.46      0.52        13\n",
            "          13       0.68      0.62      0.65        37\n",
            "          14       0.12      0.50      0.20         2\n",
            "          15       0.67      0.44      0.53         9\n",
            "          16       0.74      0.74      0.74        99\n",
            "          17       0.57      0.67      0.62        12\n",
            "          18       0.72      0.65      0.68        20\n",
            "          19       0.73      0.68      0.71       133\n",
            "          20       0.61      0.49      0.54        70\n",
            "          21       0.66      0.78      0.71        27\n",
            "          22       0.50      0.14      0.22         7\n",
            "          23       0.57      0.67      0.62        12\n",
            "          24       0.75      0.63      0.69        19\n",
            "          25       0.96      0.74      0.84        31\n",
            "          26       0.88      0.88      0.88         8\n",
            "          27       0.67      0.50      0.57         4\n",
            "          28       0.44      0.40      0.42        10\n",
            "          29       0.50      0.75      0.60         4\n",
            "          30       0.62      0.42      0.50        12\n",
            "          31       0.75      0.69      0.72        13\n",
            "          32       1.00      0.80      0.89        10\n",
            "          33       0.71      1.00      0.83         5\n",
            "          34       1.00      0.43      0.60         7\n",
            "          35       1.00      0.50      0.67         6\n",
            "          36       0.45      0.45      0.45        11\n",
            "          37       0.67      1.00      0.80         2\n",
            "          38       0.50      0.33      0.40         3\n",
            "          39       0.25      0.20      0.22         5\n",
            "          40       0.80      0.40      0.53        10\n",
            "          41       0.67      0.50      0.57         8\n",
            "          42       0.75      1.00      0.86         3\n",
            "          43       0.71      0.83      0.77         6\n",
            "          44       1.00      0.80      0.89         5\n",
            "          45       1.00      1.00      1.00         1\n",
            "\n",
            "    accuracy                           0.82      2246\n",
            "   macro avg       0.71      0.66      0.66      2246\n",
            "weighted avg       0.82      0.82      0.81      2246\n",
            "\n"
          ]
        }
      ]
    },
    {
      "cell_type": "markdown",
      "source": [
        "딥러닝 모델과 비교해 보기"
      ],
      "metadata": {
        "id": "Vh1HxREzZq-z"
      }
    },
    {
      "cell_type": "code",
      "source": [
        "(x_train, y_train), (x_test, y_test) = reuters.load_data(num_words=5000, test_split=0.2)"
      ],
      "metadata": {
        "id": "BSY8Rd6tb5W1"
      },
      "execution_count": 69,
      "outputs": []
    },
    {
      "cell_type": "code",
      "source": [
        "from tensorflow.keras.preprocessing.sequence import pad_sequences\n",
        "from tensorflow.keras.utils import to_categorical\n",
        "max_len=145\n",
        "X_train = pad_sequences(x_train, maxlen=max_len)\n",
        "X_test = pad_sequences(x_test, maxlen=max_len)\n",
        "\n",
        "y_train = to_categorical(y_train)\n",
        "y_test = to_categorical(y_test)"
      ],
      "metadata": {
        "id": "cm36LXfzfrs1"
      },
      "execution_count": 85,
      "outputs": []
    },
    {
      "cell_type": "code",
      "source": [
        "import tensorflow as tf\n",
        "from tensorflow.keras.layers import Embedding, Dense, LSTM\n",
        "from tensorflow.keras.models import Sequential\n",
        "from tensorflow.keras.models import load_model\n",
        "from tensorflow.keras.callbacks import EarlyStopping, ModelCheckpoint\n",
        "\n",
        "vocab_size = 5000 #사용할 단어사전 크기\n",
        "embedding_dim = 128 #임베딩레이어 차원 수 \n",
        "\n",
        "\n",
        "model = tf.keras.Sequential()\n",
        "model.add(tf.keras.layers.Embedding(vocab_size, embedding_dim))\n",
        "model.add(tf.keras.layers.LSTM(128)) #hidden 노드 128개\n",
        "model.add(tf.keras.layers.Dense(46, activation='softmax')) \n",
        "\n",
        "\n",
        "\n",
        "model.summary()\n"
      ],
      "metadata": {
        "colab": {
          "base_uri": "https://localhost:8080/"
        },
        "id": "AvATtjnCfuml",
        "outputId": "b33406b6-ccb4-4ef8-a577-42b3c4c2f60f"
      },
      "execution_count": 86,
      "outputs": [
        {
          "output_type": "stream",
          "name": "stdout",
          "text": [
            "Model: \"sequential_4\"\n",
            "_________________________________________________________________\n",
            " Layer (type)                Output Shape              Param #   \n",
            "=================================================================\n",
            " embedding_4 (Embedding)     (None, None, 128)         640000    \n",
            "                                                                 \n",
            " lstm_4 (LSTM)               (None, 128)               131584    \n",
            "                                                                 \n",
            " dense_8 (Dense)             (None, 46)                5934      \n",
            "                                                                 \n",
            "=================================================================\n",
            "Total params: 777,518\n",
            "Trainable params: 777,518\n",
            "Non-trainable params: 0\n",
            "_________________________________________________________________\n"
          ]
        }
      ]
    },
    {
      "cell_type": "code",
      "source": [
        "# 모델 학습\n",
        "model.compile(optimizer='adam',\n",
        "              loss='categorical_crossentropy',\n",
        "              metrics=['accuracy'])\n",
        "              \n",
        "epochs=100  \n",
        "es = EarlyStopping(monitor='val_loss', mode='min', verbose=1, patience=5)  \n",
        "mc = ModelCheckpoint('best', monitor='val_loss', mode='min', verbose=1, save_best_only=True)\n",
        "\n",
        "history = model.fit(X_train, \n",
        "                    y_train,\n",
        "                    epochs=epochs,\n",
        "                    batch_size=512,\n",
        "                    callbacks=(es,mc),\n",
        "                    validation_split=0.2)"
      ],
      "metadata": {
        "colab": {
          "base_uri": "https://localhost:8080/"
        },
        "id": "Cnzf6C4Vf0bQ",
        "outputId": "47497be0-e9fd-4746-e848-b8341608eb01"
      },
      "execution_count": 88,
      "outputs": [
        {
          "output_type": "stream",
          "name": "stdout",
          "text": [
            "Epoch 1/100\n",
            "15/15 [==============================] - ETA: 0s - loss: 0.8549 - accuracy: 0.7761\n",
            "Epoch 1: val_loss improved from inf to 1.54194, saving model to best\n"
          ]
        },
        {
          "output_type": "stream",
          "name": "stderr",
          "text": [
            "WARNING:absl:Found untraced functions such as lstm_cell_4_layer_call_fn, lstm_cell_4_layer_call_and_return_conditional_losses while saving (showing 2 of 2). These functions will not be directly callable after loading.\n"
          ]
        },
        {
          "output_type": "stream",
          "name": "stdout",
          "text": [
            "INFO:tensorflow:Assets written to: best/assets\n"
          ]
        },
        {
          "output_type": "stream",
          "name": "stderr",
          "text": [
            "INFO:tensorflow:Assets written to: best/assets\n",
            "WARNING:absl:<keras.layers.recurrent.LSTMCell object at 0x7feaccd83a10> has the same name 'LSTMCell' as a built-in Keras object. Consider renaming <class 'keras.layers.recurrent.LSTMCell'> to avoid naming conflicts when loading with `tf.keras.models.load_model`. If renaming is not possible, pass the object in the `custom_objects` parameter of the load function.\n"
          ]
        },
        {
          "output_type": "stream",
          "name": "stdout",
          "text": [
            "\b\b\b\b\b\b\b\b\b\b\b\b\b\b\b\b\b\b\b\b\b\b\b\b\b\b\b\b\b\b\b\b\b\b\b\b\b\b\b\b\b\b\b\b\b\b\b\b\b\b\b\b\b\b\b\b\b\b\b\b\b\b\b\b\b\b\b\b\b\b\b\b\b\b\b\b\b\b\b\b\b\b\r15/15 [==============================] - 29s 2s/step - loss: 0.8549 - accuracy: 0.7761 - val_loss: 1.5419 - val_accuracy: 0.6427\n",
            "Epoch 2/100\n",
            "15/15 [==============================] - ETA: 0s - loss: 0.7433 - accuracy: 0.8032\n",
            "Epoch 2: val_loss did not improve from 1.54194\n",
            "15/15 [==============================] - 22s 1s/step - loss: 0.7433 - accuracy: 0.8032 - val_loss: 1.5691 - val_accuracy: 0.6344\n",
            "Epoch 3/100\n",
            "15/15 [==============================] - ETA: 0s - loss: 0.7428 - accuracy: 0.8056\n",
            "Epoch 3: val_loss did not improve from 1.54194\n",
            "15/15 [==============================] - 22s 1s/step - loss: 0.7428 - accuracy: 0.8056 - val_loss: 1.5480 - val_accuracy: 0.6433\n",
            "Epoch 4/100\n",
            "15/15 [==============================] - ETA: 0s - loss: 0.6862 - accuracy: 0.8267\n",
            "Epoch 4: val_loss improved from 1.54194 to 1.52890, saving model to best\n"
          ]
        },
        {
          "output_type": "stream",
          "name": "stderr",
          "text": [
            "WARNING:absl:Found untraced functions such as lstm_cell_4_layer_call_fn, lstm_cell_4_layer_call_and_return_conditional_losses while saving (showing 2 of 2). These functions will not be directly callable after loading.\n"
          ]
        },
        {
          "output_type": "stream",
          "name": "stdout",
          "text": [
            "INFO:tensorflow:Assets written to: best/assets\n"
          ]
        },
        {
          "output_type": "stream",
          "name": "stderr",
          "text": [
            "INFO:tensorflow:Assets written to: best/assets\n",
            "WARNING:absl:<keras.layers.recurrent.LSTMCell object at 0x7feaccd83a10> has the same name 'LSTMCell' as a built-in Keras object. Consider renaming <class 'keras.layers.recurrent.LSTMCell'> to avoid naming conflicts when loading with `tf.keras.models.load_model`. If renaming is not possible, pass the object in the `custom_objects` parameter of the load function.\n"
          ]
        },
        {
          "output_type": "stream",
          "name": "stdout",
          "text": [
            "\b\b\b\b\b\b\b\b\b\b\b\b\b\b\b\b\b\b\b\b\b\b\b\b\b\b\b\b\b\b\b\b\b\b\b\b\b\b\b\b\b\b\b\b\b\b\b\b\b\b\b\b\b\b\b\b\b\b\b\b\b\b\b\b\b\b\b\b\b\b\b\b\b\b\b\b\b\b\b\b\b\b\r15/15 [==============================] - 26s 2s/step - loss: 0.6862 - accuracy: 0.8267 - val_loss: 1.5289 - val_accuracy: 0.6578\n",
            "Epoch 5/100\n",
            "15/15 [==============================] - ETA: 0s - loss: 0.6386 - accuracy: 0.8386\n",
            "Epoch 5: val_loss improved from 1.52890 to 1.52801, saving model to best\n"
          ]
        },
        {
          "output_type": "stream",
          "name": "stderr",
          "text": [
            "WARNING:absl:Found untraced functions such as lstm_cell_4_layer_call_fn, lstm_cell_4_layer_call_and_return_conditional_losses while saving (showing 2 of 2). These functions will not be directly callable after loading.\n"
          ]
        },
        {
          "output_type": "stream",
          "name": "stdout",
          "text": [
            "INFO:tensorflow:Assets written to: best/assets\n"
          ]
        },
        {
          "output_type": "stream",
          "name": "stderr",
          "text": [
            "INFO:tensorflow:Assets written to: best/assets\n",
            "WARNING:absl:<keras.layers.recurrent.LSTMCell object at 0x7feaccd83a10> has the same name 'LSTMCell' as a built-in Keras object. Consider renaming <class 'keras.layers.recurrent.LSTMCell'> to avoid naming conflicts when loading with `tf.keras.models.load_model`. If renaming is not possible, pass the object in the `custom_objects` parameter of the load function.\n"
          ]
        },
        {
          "output_type": "stream",
          "name": "stdout",
          "text": [
            "\b\b\b\b\b\b\b\b\b\b\b\b\b\b\b\b\b\b\b\b\b\b\b\b\b\b\b\b\b\b\b\b\b\b\b\b\b\b\b\b\b\b\b\b\b\b\b\b\b\b\b\b\b\b\b\b\b\b\b\b\b\b\b\b\b\b\b\b\b\b\b\b\b\b\b\b\b\b\b\b\b\b\r15/15 [==============================] - 26s 2s/step - loss: 0.6386 - accuracy: 0.8386 - val_loss: 1.5280 - val_accuracy: 0.6539\n",
            "Epoch 6/100\n",
            "15/15 [==============================] - ETA: 0s - loss: 0.6185 - accuracy: 0.8420\n",
            "Epoch 6: val_loss did not improve from 1.52801\n",
            "15/15 [==============================] - 22s 1s/step - loss: 0.6185 - accuracy: 0.8420 - val_loss: 1.5577 - val_accuracy: 0.6522\n",
            "Epoch 7/100\n",
            "15/15 [==============================] - ETA: 0s - loss: 0.5945 - accuracy: 0.8469\n",
            "Epoch 7: val_loss did not improve from 1.52801\n",
            "15/15 [==============================] - 22s 1s/step - loss: 0.5945 - accuracy: 0.8469 - val_loss: 1.6082 - val_accuracy: 0.6539\n",
            "Epoch 8/100\n",
            "15/15 [==============================] - ETA: 0s - loss: 0.5570 - accuracy: 0.8558\n",
            "Epoch 8: val_loss did not improve from 1.52801\n",
            "15/15 [==============================] - 22s 1s/step - loss: 0.5570 - accuracy: 0.8558 - val_loss: 1.5900 - val_accuracy: 0.6433\n",
            "Epoch 9/100\n",
            "15/15 [==============================] - ETA: 0s - loss: 0.5331 - accuracy: 0.8601\n",
            "Epoch 9: val_loss did not improve from 1.52801\n",
            "15/15 [==============================] - 22s 1s/step - loss: 0.5331 - accuracy: 0.8601 - val_loss: 1.6257 - val_accuracy: 0.6411\n",
            "Epoch 10/100\n",
            "15/15 [==============================] - ETA: 0s - loss: 0.5328 - accuracy: 0.8621\n",
            "Epoch 10: val_loss did not improve from 1.52801\n",
            "15/15 [==============================] - 22s 1s/step - loss: 0.5328 - accuracy: 0.8621 - val_loss: 1.6143 - val_accuracy: 0.6555\n",
            "Epoch 10: early stopping\n"
          ]
        }
      ]
    },
    {
      "cell_type": "code",
      "source": [
        "history_dict = history.history\n",
        "print(history_dict.keys()) # epoch에 따른 그래프를 그려볼 수 있는 항목들\n",
        "acc = history_dict['accuracy']\n",
        "val_acc = history_dict['val_accuracy']\n",
        "loss = history_dict['loss']\n",
        "val_loss = history_dict['val_loss']\n",
        "\n",
        "epochs = range(1, len(acc) + 1)\n",
        "\n",
        "# \"bo\"는 \"파란색 점\"입니다\n",
        "plt.plot(epochs, acc, 'red', label='Training acc')\n",
        "plt.plot(epochs, val_acc, 'green', label='Validation acc')\n",
        "plt.plot(epochs, loss, 'purple', label='Training loss')\n",
        "plt.plot(epochs, val_loss, 'blue', label='Validation loss')\n",
        "# b는 \"파란 실선\"입니다\n",
        "\n",
        "plt.title('Training and validation loss')\n",
        "plt.xlabel('Epochs')\n",
        "plt.ylabel('Loss')\n",
        "plt.legend()\n",
        "\n",
        "plt.show()"
      ],
      "metadata": {
        "colab": {
          "base_uri": "https://localhost:8080/",
          "height": 312
        },
        "id": "AzdQx4gwoGJd",
        "outputId": "ee32a73b-b935-4ead-9487-449314c4ff94"
      },
      "execution_count": 89,
      "outputs": [
        {
          "output_type": "stream",
          "name": "stdout",
          "text": [
            "dict_keys(['loss', 'accuracy', 'val_loss', 'val_accuracy'])\n"
          ]
        },
        {
          "output_type": "display_data",
          "data": {
            "text/plain": [
              "<Figure size 432x288 with 1 Axes>"
            ],
            "image/png": "[encoded data removed]"
          },
          "metadata": {
            "needs_background": "light"
          }
        }
      ]
    },
    {
      "cell_type": "markdown",
      "source": [
        "** 회고록\n",
        "\n",
        "\n",
        "머신 러닝에서 보팅이 가장 정확도가 높아서 보팅이 성능이 좋은 것으로 보인다. 딥러닝은 이전 익스에서 했던 것을 참고로 해서 작성을 하였다. LSTM이 보팅보다 성능이 조금 더 좋은 것으로 확인이 되었다. 고잉디퍼로 넘어가면서 이론이 많이 어려운데 그래도 노드를 참고해서 하다보니 코드 작성에 크게 어려움은 없었다. "
      ],
      "metadata": {
        "id": "HO_91TnNoXkl"
      }
    },
    {
      "cell_type": "code",
      "source": [
        ""
      ],
      "metadata": {
        "id": "uSYm426saiAw"
      },
      "execution_count": null,
      "outputs": []
    }
  ]
}